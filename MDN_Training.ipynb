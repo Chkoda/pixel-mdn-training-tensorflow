{
 "cells": [
  {
   "cell_type": "markdown",
   "metadata": {},
   "source": [
    "# Mixed Density Network Training"
   ]
  },
  {
   "cell_type": "code",
   "execution_count": 1,
   "metadata": {},
   "outputs": [
    {
     "name": "stderr",
     "output_type": "stream",
     "text": [
      "Using TensorFlow backend.\n"
     ]
    }
   ],
   "source": [
    "import os\n",
    "os.environ['KERAS_BACKEND'] = 'tensorflow'\n",
    "import tensorflow as tf\n",
    "import keras\n",
    "import h5py\n",
    "import utils\n",
    "import numpy as np"
   ]
  },
  {
   "cell_type": "code",
   "execution_count": 2,
   "metadata": {},
   "outputs": [],
   "source": [
    "import genconfig\n",
    "from train_MDN import train_nn, mixture_density_loss"
   ]
  },
  {
   "cell_type": "code",
   "execution_count": 3,
   "metadata": {},
   "outputs": [],
   "source": [
    "from collections import namedtuple\n",
    "import yaml\n",
    "Option = namedtuple(\"MyStruct\", \"training_input training_output validation_fraction outFile network_type \\\n",
    "                    config structure learning_rate regularizer epochs\")"
   ]
  },
  {
   "cell_type": "markdown",
   "metadata": {},
   "source": [
    "# Two Particle Training"
   ]
  },
  {
   "cell_type": "markdown",
   "metadata": {},
   "source": [
    "Create Config file, options are : 'number','pos1','pos2','pos3', 'error1x', 'error1y', 'error2x', 'error2y', 'error3x', 'error3y'  \n",
    "Below is example of pos2"
   ]
  },
  {
   "cell_type": "code",
   "execution_count": null,
   "metadata": {},
   "outputs": [],
   "source": [
    "!python genconfig.py --type pos2 > pos2config.json"
   ]
  },
  {
   "cell_type": "markdown",
   "metadata": {},
   "source": [
    "Now with generated config run train_nn which stores training history in text file in training_output directory"
   ]
  },
  {
   "cell_type": "code",
   "execution_count": null,
   "metadata": {
    "scrolled": false
   },
   "outputs": [],
   "source": [
    "options = Option(\n",
    "    training_input='NNinput_pos2_training.h5',\n",
    "    training_output='Trained',\n",
    "    validation_fraction=0.1,\n",
    "    outFile='pos2',\n",
    "    network_type='2particle',\n",
    "    config='pos2config.json',\n",
    "    structure=[100, 80, 50],\n",
    "    learning_rate=0.0001,\n",
    "    regularizer=0.0001,\n",
    "    epochs=1,\n",
    ")\n",
    "\n",
    "print('loading config from: ', options.config)\n",
    "config = open(options.config, 'r')\n",
    "yamlConfig = yaml.load(config, Loader=yaml.FullLoader)\n",
    "yamlConfig"
   ]
  },
  {
   "cell_type": "code",
   "execution_count": null,
   "metadata": {},
   "outputs": [],
   "source": [
    "model_2, history_2 = train_nn(\n",
    "                        options.training_input,\n",
    "                        options.training_output,\n",
    "                        options.validation_fraction,\n",
    "                        options.outFile,\n",
    "                        options.network_type,\n",
    "                        options.config,\n",
    "                        options.structure,\n",
    "                        options.learning_rate,\n",
    "                        options.regularizer,\n",
    "                        options.epochs,\n",
    "                        #args.momentum,\n",
    "                        #args.batch,\n",
    "                        ##args.min_epochs,\n",
    "                        #args.max_epochs,\n",
    "                        ##args.patience_increase,\n",
    "                        ##args.threshold,\n",
    "                        #args.min_delta,\n",
    "                        #args.patience,\n",
    "                        #args.profile,\n",
    "                        #args.nbworkers,\n",
    "                        #args.save_all,\n",
    "                        )"
   ]
  },
  {
   "cell_type": "markdown",
   "metadata": {},
   "source": [
    "Saving the model"
   ]
  },
  {
   "cell_type": "code",
   "execution_count": null,
   "metadata": {},
   "outputs": [],
   "source": [
    "import datetime"
   ]
  },
  {
   "cell_type": "code",
   "execution_count": null,
   "metadata": {},
   "outputs": [],
   "source": [
    "training_output = 'Trained'\n",
    "outFile = 'pos2'\n",
    "output_location = training_output+'/'+outFile+'_'+datetime.datetime.now().strftime('%m_%d_%H%M')"
   ]
  },
  {
   "cell_type": "code",
   "execution_count": null,
   "metadata": {},
   "outputs": [],
   "source": [
    "model_2.save(output_location)"
   ]
  },
  {
   "cell_type": "code",
   "execution_count": null,
   "metadata": {},
   "outputs": [],
   "source": [
    "new_model = tf.keras.models.load_model(output_location, custom_objects={'abs' : tf.keras.backend.abs,\n",
    "                                                                        'loss' : mixture_density_loss(nb_components=1)})"
   ]
  },
  {
   "cell_type": "markdown",
   "metadata": {},
   "source": [
    "Tensorflow 2.x features method model.save() which creates model file that stores both the weights and architecture. Loading the model from this format requires only custom objects like the above activation and loss functions to be provided. That means it includes the config, optimizer, and weights of the model. Older Tensorflow/keras model saving format required saving a weights .h5 file as well as the config and rebuilding the model and its architecture from that, which still requires the custom objects as well."
   ]
  },
  {
   "cell_type": "code",
   "execution_count": null,
   "metadata": {},
   "outputs": [],
   "source": [
    "model.get_config()"
   ]
  },
  {
   "cell_type": "markdown",
   "metadata": {},
   "source": [
    "### Learning Curve Two Particle Training"
   ]
  },
  {
   "cell_type": "code",
   "execution_count": null,
   "metadata": {},
   "outputs": [],
   "source": [
    "training_loss = np.loadtxt('Trained/pos2_06_04_0556_training_pos2.txt')\n",
    "validation_loss = np.loadtxt('Trained/pos2_06_04_0556_validation_pos2.txt')"
   ]
  },
  {
   "cell_type": "code",
   "execution_count": null,
   "metadata": {},
   "outputs": [],
   "source": [
    "import matplotlib.pyplot as plt"
   ]
  },
  {
   "cell_type": "code",
   "execution_count": null,
   "metadata": {},
   "outputs": [],
   "source": [
    "def plot_learning_curve(train_loss, val_loss, fileName, outputDir):\n",
    "    plt.figure(figsize=(7,5))\n",
    "    \n",
    "    plt.plot(train_loss, color='b', linewidth=0.5)\n",
    "    plt.plot(val_loss, color='r', linewidth=0.5)\n",
    "    plt.title('Model Loss over Epochs')\n",
    "    plt.ylabel('Loss')\n",
    "    plt.xlabel('Epoch')\n",
    "    plt.xlim(0,250)\n",
    "    plt.ylim(0, 0.9)\n",
    "    plt.legend(['training set','validation set'])\n",
    "    plt.savefig(outputDir+'/'+fileName+'_Loss.pdf')\n",
    "    plt.show()\n",
    "    plt.close()"
   ]
  },
  {
   "cell_type": "code",
   "execution_count": null,
   "metadata": {},
   "outputs": [],
   "source": [
    "plot_learning_curve(training_loss, validation_loss, 'pos2', 'Trained')"
   ]
  },
  {
   "cell_type": "markdown",
   "metadata": {},
   "source": [
    "# One Particle Training"
   ]
  },
  {
   "cell_type": "code",
   "execution_count": 4,
   "metadata": {},
   "outputs": [],
   "source": [
    "!python genconfig.py --type pos1 > pos1config.json"
   ]
  },
  {
   "cell_type": "code",
   "execution_count": 7,
   "metadata": {},
   "outputs": [
    {
     "name": "stdout",
     "output_type": "stream",
     "text": [
      "loading config from:  pos1config.json\n"
     ]
    },
    {
     "data": {
      "text/plain": [
       "{'inputs': ['NN_matrix0',\n",
       "  'NN_matrix1',\n",
       "  'NN_matrix2',\n",
       "  'NN_matrix3',\n",
       "  'NN_matrix4',\n",
       "  'NN_matrix5',\n",
       "  'NN_matrix6',\n",
       "  'NN_matrix7',\n",
       "  'NN_matrix8',\n",
       "  'NN_matrix9',\n",
       "  'NN_matrix10',\n",
       "  'NN_matrix11',\n",
       "  'NN_matrix12',\n",
       "  'NN_matrix13',\n",
       "  'NN_matrix14',\n",
       "  'NN_matrix15',\n",
       "  'NN_matrix16',\n",
       "  'NN_matrix17',\n",
       "  'NN_matrix18',\n",
       "  'NN_matrix19',\n",
       "  'NN_matrix20',\n",
       "  'NN_matrix21',\n",
       "  'NN_matrix22',\n",
       "  'NN_matrix23',\n",
       "  'NN_matrix24',\n",
       "  'NN_matrix25',\n",
       "  'NN_matrix26',\n",
       "  'NN_matrix27',\n",
       "  'NN_matrix28',\n",
       "  'NN_matrix29',\n",
       "  'NN_matrix30',\n",
       "  'NN_matrix31',\n",
       "  'NN_matrix32',\n",
       "  'NN_matrix33',\n",
       "  'NN_matrix34',\n",
       "  'NN_matrix35',\n",
       "  'NN_matrix36',\n",
       "  'NN_matrix37',\n",
       "  'NN_matrix38',\n",
       "  'NN_matrix39',\n",
       "  'NN_matrix40',\n",
       "  'NN_matrix41',\n",
       "  'NN_matrix42',\n",
       "  'NN_matrix43',\n",
       "  'NN_matrix44',\n",
       "  'NN_matrix45',\n",
       "  'NN_matrix46',\n",
       "  'NN_matrix47',\n",
       "  'NN_matrix48',\n",
       "  'NN_pitches0',\n",
       "  'NN_pitches1',\n",
       "  'NN_pitches2',\n",
       "  'NN_pitches3',\n",
       "  'NN_pitches4',\n",
       "  'NN_pitches5',\n",
       "  'NN_pitches6',\n",
       "  'NN_layer',\n",
       "  'NN_barrelEC',\n",
       "  'NN_phi',\n",
       "  'NN_theta'],\n",
       " 'targets': ['NN_position_id_X_0', 'NN_position_id_Y_0'],\n",
       " 'metadata': ['RunNumber',\n",
       "  'EventNumber',\n",
       "  'ClusterNumber',\n",
       "  'NN_sizeX',\n",
       "  'NN_sizeY',\n",
       "  'NN_localEtaPixelIndexWeightedPosition',\n",
       "  'NN_localPhiPixelIndexWeightedPosition',\n",
       "  'NN_layer',\n",
       "  'NN_barrelEC',\n",
       "  'NN_etaModule',\n",
       "  'NN_phi',\n",
       "  'NN_theta',\n",
       "  'globalX',\n",
       "  'globalY',\n",
       "  'globalZ',\n",
       "  'globalEta',\n",
       "  'NN_pitches0',\n",
       "  'NN_pitches1',\n",
       "  'NN_pitches2',\n",
       "  'NN_pitches3',\n",
       "  'NN_pitches4',\n",
       "  'NN_pitches5',\n",
       "  'NN_pitches6']}"
      ]
     },
     "execution_count": 7,
     "metadata": {},
     "output_type": "execute_result"
    }
   ],
   "source": [
    "options = Option(\n",
    "    training_input='NNinput_pos1_training.h5',\n",
    "    training_output='Trained',\n",
    "    validation_fraction=0.1,\n",
    "    outFile='pos1',\n",
    "    network_type='1particle',\n",
    "    config='pos1config.json',\n",
    "    structure=[100, 80, 50],\n",
    "    learning_rate=0.0001,\n",
    "    regularizer=0.0001,\n",
    "    epochs=250,\n",
    ")\n",
    "\n",
    "print('loading config from: ', options.config)\n",
    "config = open(options.config, 'r')\n",
    "yamlConfig = yaml.load(config, Loader=yaml.FullLoader)\n",
    "yamlConfig"
   ]
  },
  {
   "cell_type": "code",
   "execution_count": null,
   "metadata": {},
   "outputs": [
    {
     "name": "stdout",
     "output_type": "stream",
     "text": [
      "(['NN_matrix0', 'NN_matrix1', 'NN_matrix2', 'NN_matrix3', 'NN_matrix4', 'NN_matrix5', 'NN_matrix6', 'NN_matrix7', 'NN_matrix8', 'NN_matrix9', 'NN_matrix10', 'NN_matrix11', 'NN_matrix12', 'NN_matrix13', 'NN_matrix14', 'NN_matrix15', 'NN_matrix16', 'NN_matrix17', 'NN_matrix18', 'NN_matrix19', 'NN_matrix20', 'NN_matrix21', 'NN_matrix22', 'NN_matrix23', 'NN_matrix24', 'NN_matrix25', 'NN_matrix26', 'NN_matrix27', 'NN_matrix28', 'NN_matrix29', 'NN_matrix30', 'NN_matrix31', 'NN_matrix32', 'NN_matrix33', 'NN_matrix34', 'NN_matrix35', 'NN_matrix36', 'NN_matrix37', 'NN_matrix38', 'NN_matrix39', 'NN_matrix40', 'NN_matrix41', 'NN_matrix42', 'NN_matrix43', 'NN_matrix44', 'NN_matrix45', 'NN_matrix46', 'NN_matrix47', 'NN_matrix48', 'NN_pitches0', 'NN_pitches1', 'NN_pitches2', 'NN_pitches3', 'NN_pitches4', 'NN_pitches5', 'NN_pitches6', 'NN_layer', 'NN_barrelEC', 'NN_phi', 'NN_theta'], ['NN_position_id_X_0', 'NN_position_id_Y_0'], [])\n",
      "Model: \"model_2\"\n",
      "__________________________________________________________________________________________________\n",
      "Layer (type)                    Output Shape         Param #     Connected to                     \n",
      "==================================================================================================\n",
      "input_2 (InputLayer)            (None, 60)           0                                            \n",
      "__________________________________________________________________________________________________\n",
      "dense_7 (Dense)                 (None, 100)          6100        input_2[0][0]                    \n",
      "__________________________________________________________________________________________________\n",
      "dense_8 (Dense)                 (None, 80)           8080        dense_7[0][0]                    \n",
      "__________________________________________________________________________________________________\n",
      "dense_9 (Dense)                 (None, 50)           4050        dense_8[0][0]                    \n",
      "__________________________________________________________________________________________________\n",
      "dense_10 (Dense)                (None, 1)            51          dense_9[0][0]                    \n",
      "__________________________________________________________________________________________________\n",
      "dense_11 (Dense)                (None, 2)            102         dense_9[0][0]                    \n",
      "__________________________________________________________________________________________________\n",
      "dense_12 (Dense)                (None, 2)            102         dense_9[0][0]                    \n",
      "__________________________________________________________________________________________________\n",
      "concatenate_2 (Concatenate)     (None, 5)            0           dense_10[0][0]                   \n",
      "                                                                 dense_11[0][0]                   \n",
      "                                                                 dense_12[0][0]                   \n",
      "==================================================================================================\n",
      "Total params: 18,485\n",
      "Trainable params: 18,485\n",
      "Non-trainable params: 0\n",
      "__________________________________________________________________________________________________\n",
      "None\n",
      "Train on 9720000 samples, validate on 1080000 samples\n",
      "Epoch 1/250\n",
      " - 160s - loss: -5.6639e-01 - val_loss: -7.2377e-01\n",
      "\n",
      "Epoch 00001: val_loss improved from inf to -0.72377, saving model to Trained/pos1.h5\n",
      "Epoch 2/250\n",
      " - 165s - loss: -8.4768e-01 - val_loss: -9.2452e-01\n",
      "\n",
      "Epoch 00002: val_loss improved from -0.72377 to -0.92452, saving model to Trained/pos1.h5\n",
      "Epoch 3/250\n",
      " - 153s - loss: -9.5625e-01 - val_loss: -9.6567e-01\n",
      "\n",
      "Epoch 00003: val_loss improved from -0.92452 to -0.96567, saving model to Trained/pos1.h5\n",
      "Epoch 4/250\n",
      " - 154s - loss: -9.9699e-01 - val_loss: -9.9011e-01\n",
      "\n",
      "Epoch 00004: val_loss improved from -0.96567 to -0.99011, saving model to Trained/pos1.h5\n",
      "Epoch 5/250\n",
      " - 165s - loss: -1.0193e+00 - val_loss: -1.0290e+00\n",
      "\n",
      "Epoch 00005: val_loss improved from -0.99011 to -1.02899, saving model to Trained/pos1.h5\n",
      "Epoch 6/250\n",
      " - 173s - loss: -1.0335e+00 - val_loss: -1.0207e+00\n",
      "\n",
      "Epoch 00006: val_loss did not improve from -1.02899\n",
      "Epoch 7/250\n",
      " - 174s - loss: -1.0439e+00 - val_loss: -1.0462e+00\n",
      "\n",
      "Epoch 00007: val_loss improved from -1.02899 to -1.04621, saving model to Trained/pos1.h5\n",
      "Epoch 8/250\n",
      " - 172s - loss: -1.0524e+00 - val_loss: -1.0529e+00\n",
      "\n",
      "Epoch 00008: val_loss improved from -1.04621 to -1.05286, saving model to Trained/pos1.h5\n",
      "Epoch 9/250\n",
      " - 175s - loss: -1.0594e+00 - val_loss: -1.0612e+00\n",
      "\n",
      "Epoch 00009: val_loss improved from -1.05286 to -1.06117, saving model to Trained/pos1.h5\n",
      "Epoch 10/250\n",
      " - 179s - loss: -1.0647e+00 - val_loss: -1.0669e+00\n",
      "\n",
      "Epoch 00010: val_loss improved from -1.06117 to -1.06692, saving model to Trained/pos1.h5\n",
      "Epoch 11/250\n",
      " - 178s - loss: -1.0691e+00 - val_loss: -1.0688e+00\n",
      "\n",
      "Epoch 00011: val_loss improved from -1.06692 to -1.06884, saving model to Trained/pos1.h5\n",
      "Epoch 12/250\n",
      " - 175s - loss: -1.0729e+00 - val_loss: -1.0718e+00\n",
      "\n",
      "Epoch 00012: val_loss improved from -1.06884 to -1.07178, saving model to Trained/pos1.h5\n",
      "Epoch 13/250\n",
      " - 175s - loss: -1.0763e+00 - val_loss: -1.0771e+00\n",
      "\n",
      "Epoch 00013: val_loss improved from -1.07178 to -1.07715, saving model to Trained/pos1.h5\n",
      "Epoch 14/250\n",
      " - 173s - loss: -1.0794e+00 - val_loss: -1.0783e+00\n",
      "\n",
      "Epoch 00014: val_loss improved from -1.07715 to -1.07832, saving model to Trained/pos1.h5\n",
      "Epoch 15/250\n",
      " - 175s - loss: -1.0821e+00 - val_loss: -1.0752e+00\n",
      "\n",
      "Epoch 00015: val_loss did not improve from -1.07832\n",
      "Epoch 16/250\n",
      " - 171s - loss: -1.0846e+00 - val_loss: -1.0795e+00\n",
      "\n",
      "Epoch 00016: val_loss improved from -1.07832 to -1.07947, saving model to Trained/pos1.h5\n",
      "Epoch 17/250\n",
      " - 172s - loss: -1.0869e+00 - val_loss: -1.0803e+00\n",
      "\n",
      "Epoch 00017: val_loss improved from -1.07947 to -1.08026, saving model to Trained/pos1.h5\n",
      "Epoch 18/250\n",
      " - 172s - loss: -1.0888e+00 - val_loss: -1.0814e+00\n",
      "\n",
      "Epoch 00018: val_loss improved from -1.08026 to -1.08138, saving model to Trained/pos1.h5\n",
      "Epoch 19/250\n",
      " - 173s - loss: -1.0909e+00 - val_loss: -1.0887e+00\n",
      "\n",
      "Epoch 00019: val_loss improved from -1.08138 to -1.08869, saving model to Trained/pos1.h5\n",
      "Epoch 20/250\n",
      " - 171s - loss: -1.0929e+00 - val_loss: -1.0825e+00\n",
      "\n",
      "Epoch 00020: val_loss did not improve from -1.08869\n",
      "Epoch 21/250\n",
      " - 173s - loss: -1.0946e+00 - val_loss: -1.0926e+00\n",
      "\n",
      "Epoch 00021: val_loss improved from -1.08869 to -1.09255, saving model to Trained/pos1.h5\n",
      "Epoch 22/250\n",
      " - 191s - loss: -1.0964e+00 - val_loss: -1.0945e+00\n",
      "\n",
      "Epoch 00022: val_loss improved from -1.09255 to -1.09454, saving model to Trained/pos1.h5\n",
      "Epoch 23/250\n",
      " - 183s - loss: -1.0980e+00 - val_loss: -1.0919e+00\n",
      "\n",
      "Epoch 00023: val_loss did not improve from -1.09454\n",
      "Epoch 24/250\n",
      " - 185s - loss: -1.0992e+00 - val_loss: -1.0921e+00\n",
      "\n",
      "Epoch 00024: val_loss did not improve from -1.09454\n",
      "Epoch 25/250\n",
      " - 173s - loss: -1.1007e+00 - val_loss: -1.0988e+00\n",
      "\n",
      "Epoch 00025: val_loss improved from -1.09454 to -1.09882, saving model to Trained/pos1.h5\n",
      "Epoch 26/250\n",
      " - 166s - loss: -1.1017e+00 - val_loss: -1.0928e+00\n",
      "\n",
      "Epoch 00026: val_loss did not improve from -1.09882\n",
      "Epoch 27/250\n",
      " - 176s - loss: -1.1030e+00 - val_loss: -1.1005e+00\n",
      "\n",
      "Epoch 00027: val_loss improved from -1.09882 to -1.10054, saving model to Trained/pos1.h5\n",
      "Epoch 28/250\n"
     ]
    }
   ],
   "source": [
    "model_1, history_1 = train_nn(\n",
    "                        options.training_input,\n",
    "                        options.training_output,\n",
    "                        options.validation_fraction,\n",
    "                        options.outFile,\n",
    "                        options.network_type,\n",
    "                        options.config,\n",
    "                        options.structure,\n",
    "                        options.learning_rate,\n",
    "                        options.regularizer,\n",
    "                        options.epochs,\n",
    "                        #args.momentum,\n",
    "                        #args.batch,\n",
    "                        ##args.min_epochs,\n",
    "                        #args.max_epochs,\n",
    "                        ##args.patience_increase,\n",
    "                        ##args.threshold,\n",
    "                        #args.min_delta,\n",
    "                        #args.patience,\n",
    "                        #args.profile,\n",
    "                        #args.nbworkers,\n",
    "                        #args.save_all,\n",
    "                        )"
   ]
  },
  {
   "cell_type": "markdown",
   "metadata": {},
   "source": [
    "# Three Particle Training"
   ]
  },
  {
   "cell_type": "code",
   "execution_count": null,
   "metadata": {},
   "outputs": [],
   "source": [
    "!python genconfig.py --type pos3 > pos3config.json"
   ]
  },
  {
   "cell_type": "code",
   "execution_count": null,
   "metadata": {},
   "outputs": [],
   "source": [
    "options = Option(\n",
    "    training_input='NNinput_pos3_training.h5',\n",
    "    training_output='Trained',\n",
    "    validation_fraction=0.1,\n",
    "    outFile='pos3',\n",
    "    network_type='3particle',\n",
    "    config='pos3config.json',\n",
    "    structure=[100, 80, 50],\n",
    "    learning_rate=0.0001,\n",
    "    regularizer=0.0001,\n",
    "    epochs=250,\n",
    ")\n",
    "\n",
    "print('loading config from: ', options.config)\n",
    "config = open(options.config, 'r')\n",
    "yamlConfig = yaml.load(config, Loader=yaml.FullLoader)\n",
    "yamlConfig"
   ]
  },
  {
   "cell_type": "code",
   "execution_count": null,
   "metadata": {},
   "outputs": [],
   "source": [
    "model_3, history_3 = train_nn(\n",
    "                        options.training_input,\n",
    "                        options.training_output,\n",
    "                        options.validation_fraction,\n",
    "                        options.outFile,\n",
    "                        options.network_type,\n",
    "                        options.config,\n",
    "                        options.structure,\n",
    "                        options.learning_rate,\n",
    "                        options.regularizer,\n",
    "                        options.epochs,\n",
    "                        #args.momentum,\n",
    "                        #args.batch,\n",
    "                        ##args.min_epochs,\n",
    "                        #args.max_epochs,\n",
    "                        ##args.patience_increase,\n",
    "                        ##args.threshold,\n",
    "                        #args.min_delta,\n",
    "                        #args.patience,\n",
    "                        #args.profile,\n",
    "                        #args.nbworkers,\n",
    "                        #args.save_all,\n",
    "                        )"
   ]
  },
  {
   "cell_type": "markdown",
   "metadata": {},
   "source": [
    "# Testing Inference"
   ]
  },
  {
   "cell_type": "code",
   "execution_count": null,
   "metadata": {},
   "outputs": [],
   "source": [
    "model_2p = tf.keras.models.load_model('Trained/pos2_06_04_0556', custom_objects={'abs' : tf.keras.backend.abs,\n",
    "                                                                        'loss' : mixture_density_loss(nb_components=1)})"
   ]
  },
  {
   "cell_type": "code",
   "execution_count": null,
   "metadata": {},
   "outputs": [],
   "source": [
    "with h5py.File('NNinput_pos3_training.h5', 'r') as hf:  \n",
    "    #x_train = hf['train_data_x'][:]\n",
    "    #y_train = hf['train_data_y'][:]\n",
    "    x_valid = hf['valid_data_x'][:]\n",
    "    y_valid = hf['valid_data_y'][:]"
   ]
  },
  {
   "cell_type": "code",
   "execution_count": null,
   "metadata": {},
   "outputs": [],
   "source": [
    "branches = utils.get_data_config_names('pos2config.json', meta=False)\n",
    "print(branches)"
   ]
  },
  {
   "cell_type": "code",
   "execution_count": null,
   "metadata": {},
   "outputs": [],
   "source": [
    "y_pred = model_3.predict(x_valid)"
   ]
  },
  {
   "cell_type": "code",
   "execution_count": null,
   "metadata": {},
   "outputs": [],
   "source": [
    "pred_mean = np.hstack((y_pred[0][:,1:3], y_pred[1][:,1:3], y_pred[2][:,1:3]))\n",
    "pred_prec = np.hstack((y_pred[0][:,3:5], y_pred[1][:,3:5], y_pred[2][:,3:5]))"
   ]
  },
  {
   "cell_type": "code",
   "execution_count": null,
   "metadata": {},
   "outputs": [],
   "source": [
    "pred_mean - y_valid"
   ]
  },
  {
   "cell_type": "code",
   "execution_count": null,
   "metadata": {},
   "outputs": [],
   "source": [
    "y_valid"
   ]
  },
  {
   "cell_type": "code",
   "execution_count": null,
   "metadata": {},
   "outputs": [],
   "source": [
    "pred_mean = np.hstack((y_pred[0][:,1:3], y_pred[1][:,1:3]))\n",
    "pred_mean[:4]"
   ]
  },
  {
   "cell_type": "code",
   "execution_count": null,
   "metadata": {},
   "outputs": [],
   "source": [
    "y_valid[:4]"
   ]
  },
  {
   "cell_type": "code",
   "execution_count": null,
   "metadata": {},
   "outputs": [],
   "source": [
    "pred_prec = np.hstack((y_pred[0][:,3:5], y_pred[1][:,3:5]))\n",
    "pred_prec[:4]"
   ]
  },
  {
   "cell_type": "code",
   "execution_count": null,
   "metadata": {},
   "outputs": [],
   "source": [
    "min(y_pred[0][:,0])"
   ]
  },
  {
   "cell_type": "code",
   "execution_count": null,
   "metadata": {},
   "outputs": [],
   "source": [
    "y_pred"
   ]
  },
  {
   "cell_type": "code",
   "execution_count": null,
   "metadata": {},
   "outputs": [],
   "source": [
    "x_valid[0]"
   ]
  },
  {
   "cell_type": "code",
   "execution_count": null,
   "metadata": {},
   "outputs": [],
   "source": [
    "x_test_1 = tf.reshape(x_valid[0], [1,60])\n",
    "x_test_1.shape"
   ]
  },
  {
   "cell_type": "code",
   "execution_count": null,
   "metadata": {},
   "outputs": [],
   "source": [
    "y_pred_1 = model_2p.predict(x_test_1)\n",
    "y_pred_1"
   ]
  },
  {
   "cell_type": "code",
   "execution_count": null,
   "metadata": {},
   "outputs": [],
   "source": [
    "y_pred_1[0][0]"
   ]
  },
  {
   "cell_type": "code",
   "execution_count": null,
   "metadata": {},
   "outputs": [],
   "source": [
    "y_pred_1[1][0]"
   ]
  },
  {
   "cell_type": "code",
   "execution_count": null,
   "metadata": {},
   "outputs": [],
   "source": [
    "y_valid[0]"
   ]
  },
  {
   "cell_type": "code",
   "execution_count": null,
   "metadata": {},
   "outputs": [],
   "source": [
    "y_valid[1]"
   ]
  },
  {
   "cell_type": "code",
   "execution_count": null,
   "metadata": {},
   "outputs": [],
   "source": []
  }
 ],
 "metadata": {
  "kernelspec": {
   "display_name": "Python 3",
   "language": "python",
   "name": "python3"
  },
  "language_info": {
   "codemirror_mode": {
    "name": "ipython",
    "version": 3
   },
   "file_extension": ".py",
   "mimetype": "text/x-python",
   "name": "python",
   "nbconvert_exporter": "python",
   "pygments_lexer": "ipython3",
   "version": "3.6.10"
  }
 },
 "nbformat": 4,
 "nbformat_minor": 2
}
