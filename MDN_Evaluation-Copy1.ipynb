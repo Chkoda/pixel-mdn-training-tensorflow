{
 "cells": [
  {
   "cell_type": "code",
   "execution_count": 1,
   "metadata": {},
   "outputs": [
    {
     "name": "stderr",
     "output_type": "stream",
     "text": [
      "Using TensorFlow backend.\n"
     ]
    }
   ],
   "source": [
    "import os\n",
    "os.environ['KERAS_BACKEND'] = 'tensorflow'\n",
    "import tensorflow as tf\n",
    "import keras\n",
    "import h5py\n",
    "import utils\n",
    "import numpy as np\n",
    "import matplotlib.pyplot as plt\n",
    "import atlas_mpl_style\n",
    "plt.style.use('atlas')\n",
    "from matplotlib.ticker import PercentFormatter\n",
    "from collections import namedtuple\n",
    "import yaml"
   ]
  },
  {
   "cell_type": "code",
   "execution_count": 2,
   "metadata": {},
   "outputs": [],
   "source": [
    "import genconfig\n",
    "from train_MDN import train_nn, mixture_density_loss\n",
    "Option = namedtuple(\"MyStruct\", \"training_input training_output validation_fraction outFile network_type \\\n",
    "                    config structure learning_rate regularizer epochs\")"
   ]
  },
  {
   "cell_type": "code",
   "execution_count": null,
   "metadata": {},
   "outputs": [],
   "source": [
    "def plotResidual(y_pred, y_valid, nbins=10000):\n",
    "    nparticles = int(y_pred.shape[1]/2)\n",
    "    fig, axs = plt.subplots(nparticles,2,sharey=True,sharex=True,tight_layout=True, figsize=[4*nparticles,12])\n",
    "    axs[0][0].set_xlim([-10,10])\n",
    "    for i in range(0,nparticles):\n",
    "        axs[i][0].hist(pred_mean[:,i] - y_valid[:,i], bins=n_bins, density=True, histtype='step')\n",
    "        axs[i][0].grid(True, linestyle='-.')\n",
    "        axs[i][0].title.set_text('x'+str(i+1)+' mean')\n",
    "        axs[i][1].hist(pred_mean[:,i+1] - y_valid[:,i+1], bins=n_bins, density=True, histtype='step')\n",
    "        axs[i][1].grid(True, linestyle='-.')\n",
    "        axs[i][1].title.set_text('y'+str(i+1)+' mean')\n",
    "    plt.show()\n",
    "    plt.close()"
   ]
  },
  {
   "cell_type": "markdown",
   "metadata": {},
   "source": [
    "# One Particle"
   ]
  },
  {
   "cell_type": "code",
   "execution_count": 3,
   "metadata": {},
   "outputs": [],
   "source": [
    "with h5py.File('NNinput_pos1_training.h5', 'r') as hf:  \n",
    "    #x_train = hf['train_data_x'][:]\n",
    "    #y_train = hf['train_data_y'][:]\n",
    "    x_valid = hf['valid_data_x'][:]\n",
    "    y_valid = hf['valid_data_y'][:]"
   ]
  },
  {
   "cell_type": "markdown",
   "metadata": {},
   "source": [
    "#### Locally Trained Model"
   ]
  },
  {
   "cell_type": "code",
   "execution_count": 28,
   "metadata": {},
   "outputs": [],
   "source": [
    "trainedModelFile = \"Trained/pos1_06_16_1142\"\n",
    "trained_model = tf.keras.models.load_model(trainedModelFile, custom_objects={'abs' : tf.keras.backend.abs,\n",
    "                                                                        'loss' : mixture_density_loss(nb_components=1)})\n",
    "trained_model.load_weights('Trained/pos1_best.h5')"
   ]
  },
  {
   "cell_type": "code",
   "execution_count": null,
   "metadata": {},
   "outputs": [],
   "source": [
    "trained_model.summary()"
   ]
  },
  {
   "cell_type": "code",
   "execution_count": 29,
   "metadata": {},
   "outputs": [],
   "source": [
    "trained_pred = trained_model.predict(x_valid)"
   ]
  },
  {
   "cell_type": "code",
   "execution_count": 30,
   "metadata": {},
   "outputs": [],
   "source": [
    "pred_mean_trained = trained_pred[:,1:3]\n",
    "pred_std_trained = 1/np.sqrt(trained_pred[:,3:5])"
   ]
  },
  {
   "cell_type": "code",
   "execution_count": 31,
   "metadata": {},
   "outputs": [],
   "source": [
    "trained_pred_mean_mean_x = \"{:.3f}\".format(np.average(pred_mean_trained[:,0]))\n",
    "trained_pred_mean_mean_y = \"{:.3f}\".format(np.average(pred_mean_trained[:,1]))\n",
    "trained_pred_std_mean_x = \"{:.3f}\".format(np.average(pred_std_trained[:,0]))\n",
    "trained_pred_std_mean_y = \"{:.3f}\".format(np.average(pred_std_trained[:,1]))"
   ]
  },
  {
   "cell_type": "markdown",
   "metadata": {},
   "source": [
    "#### Elham's Pre-Trained Model"
   ]
  },
  {
   "cell_type": "code",
   "execution_count": 8,
   "metadata": {
    "scrolled": true
   },
   "outputs": [],
   "source": [
    "trained_model.load_weights('weights_pos1.h5')"
   ]
  },
  {
   "cell_type": "code",
   "execution_count": 9,
   "metadata": {},
   "outputs": [],
   "source": [
    "pretrained_pred = trained_model.predict(x_valid)"
   ]
  },
  {
   "cell_type": "code",
   "execution_count": 10,
   "metadata": {},
   "outputs": [],
   "source": [
    "pred_mean_pretrained = pretrained_pred[:,1:3]\n",
    "pred_std_pretrained = 1/np.sqrt(pretrained_pred[:,3:5])"
   ]
  },
  {
   "cell_type": "code",
   "execution_count": 27,
   "metadata": {},
   "outputs": [
    {
     "name": "stdout",
     "output_type": "stream",
     "text": [
      "<class 'str'>\n"
     ]
    }
   ],
   "source": [
    "pretrained_pred_mean_mean_x = \"{:.3f}\".format(np.average(pred_mean_pretrained[:,0]))\n",
    "pretrained_pred_mean_mean_y = \"{:.3f}\".format(np.average(pred_mean_pretrained[:,1]))\n",
    "pretrained_pred_std_mean_x = \"{:.3f}\".format(np.average(pred_std_pretrained[:,0]))\n",
    "pretrained_pred_std_mean_y = \"{:.3f}\".format(np.average(pred_std_pretrained[:,1]))\n",
    "\n",
    "print(type(pretrained_pred_mean_mean_x))"
   ]
  },
  {
   "cell_type": "markdown",
   "metadata": {},
   "source": [
    "### Residuals"
   ]
  },
  {
   "cell_type": "code",
   "execution_count": 46,
   "metadata": {
    "scrolled": false
   },
   "outputs": [
    {
     "data": {
      "image/png": "[encoded data removed]",
      "text/plain": [
       "<Figure size 864x288 with 2 Axes>"
      ]
     },
     "metadata": {},
     "output_type": "display_data"
    }
   ],
   "source": [
    "nbins = np.linspace(-2,2,50)\n",
    "nparticles = int(pred_mean_trained.shape[1]/2)\n",
    "fig, ax = plt.subplots(nparticles, 2, sharey=True,sharex=True, tight_layout=True, figsize=[12,4*nparticles])\n",
    "ax[0].set_xlim([-1,1])\n",
    "ax[0].hist(pred_mean_trained[:,0] - y_valid[:,0], bins=nbins, density=True, histtype='step', color='r')\n",
    "ax[0].errorbar()\n",
    "ax[0].hist(pred_mean_pretrained[:,0] - y_valid[:,0], bins=nbins, density=True, histtype='step', color='b')\n",
    "ax[0].grid(True, linestyle='-.')\n",
    "ax[0].title.set_text('$x_1$ residual')\n",
    "ax[0].legend(['trained ($\\mu = '+trained_pred_mean_mean_x+'$, $\\sigma = '+trained_pred_std_mean_x+'$)',\n",
    "              'pretrained ($\\mu = '+pretrained_pred_mean_mean_x+'$, $\\sigma = '+pretrained_pred_std_mean_x+'$)'])\n",
    "ax[1].hist(pred_mean_trained[:,1] - y_valid[:,1], bins=nbins, density=True, histtype='step', color='r')\n",
    "ax[1].hist(pred_mean_pretrained[:,1] - y_valid[:,1], bins=nbins, density=True, histtype='step', color='b')\n",
    "ax[1].grid(True, linestyle='-.')\n",
    "ax[1].title.set_text('$y_1$ residual')\n",
    "ax[1].legend(['trained', 'pretrained'])\n",
    "plt.savefig('1particleResiduals.png')\n",
    "plt.show()\n",
    "plt.close()"
   ]
  },
  {
   "cell_type": "markdown",
   "metadata": {},
   "source": [
    "### Pulls"
   ]
  },
  {
   "cell_type": "code",
   "execution_count": null,
   "metadata": {
    "scrolled": true
   },
   "outputs": [],
   "source": [
    "nbins=10000\n",
    "nparticles = int(pred_mean_trained.shape[1]/2)\n",
    "fig, ax = plt.subplots(nparticles, 2, sharey=True,sharex=True, tight_layout=True, figsize=[12,4*nparticles])\n",
    "ax[0].set_xlim([-3,3])\n",
    "ax[0].hist((pred_mean_trained[:,0] - y_valid[:,0])/pred_std_trained[:,0], bins=nbins, density=True, histtype='step', color='r',)\n",
    "ax[0].hist(pred_mean_pretrained[:,0] - y_valid[:,0], bins=nbins, density=True, histtype='step', color='b')\n",
    "ax[0].grid(True, linestyle='-.')\n",
    "ax[0].title.set_text('x1 pull')\n",
    "ax[0].legend(['trained', 'pretrained'])\n",
    "ax[1].hist((pred_mean_trained[:,1] - y_valid[:,1])/pred_std_pretrained[:,1], bins=nbins, density=True, histtype='step', color='r')\n",
    "ax[1].hist(pred_mean_pretrained[:,1] - y_valid[:,1], bins=nbins, density=True, histtype='step', color='b')\n",
    "ax[1].grid(True, linestyle='-.')\n",
    "ax[1].title.set_text('y1 pull')\n",
    "ax[1].legend(['trained', 'pretrained'])\n",
    "plt.savefig('1particlePulls.png')\n",
    "plt.show()\n",
    "plt.close()"
   ]
  },
  {
   "cell_type": "markdown",
   "metadata": {},
   "source": [
    "# Two Particles"
   ]
  },
  {
   "cell_type": "code",
   "execution_count": null,
   "metadata": {},
   "outputs": [],
   "source": [
    "with h5py.File('NNinput_pos2_training.h5', 'r') as hf:  \n",
    "    #x_train = hf['train_data_x'][:]\n",
    "    #y_train = hf['train_data_y'][:]\n",
    "    x_valid = hf['valid_data_x'][:]\n",
    "    y_valid = hf['valid_data_y'][:]"
   ]
  },
  {
   "cell_type": "markdown",
   "metadata": {},
   "source": [
    "#### Locally Trained Model"
   ]
  },
  {
   "cell_type": "code",
   "execution_count": null,
   "metadata": {},
   "outputs": [],
   "source": [
    "trainedModelFile = \"Trained/pos2_06_15_2358\"\n",
    "trained_model = tf.keras.models.load_model(trainedModelFile, custom_objects={'abs' : tf.keras.backend.abs,\n",
    "                                                                        'loss' : mixture_density_loss(nb_components=1)})\n",
    "trained_model.load_weights('Trained/pos2_06_04_0556_best.h5')"
   ]
  },
  {
   "cell_type": "code",
   "execution_count": null,
   "metadata": {},
   "outputs": [],
   "source": [
    "trained_model.summary()"
   ]
  },
  {
   "cell_type": "code",
   "execution_count": null,
   "metadata": {},
   "outputs": [],
   "source": [
    "trained_pred = trained_model.predict(x_valid)"
   ]
  },
  {
   "cell_type": "code",
   "execution_count": null,
   "metadata": {},
   "outputs": [],
   "source": [
    "pred_mean_trained = np.hstack((trained_pred[0][:,1:3], trained_pred[1][:,1:3]))\n",
    "pred_std_trained = 1/np.sqrt(np.hstack((trained_pred[0][:,3:5], trained_pred[1][:,3:5])))"
   ]
  },
  {
   "cell_type": "markdown",
   "metadata": {},
   "source": [
    "#### Elham's Pre-Trained Model"
   ]
  },
  {
   "cell_type": "code",
   "execution_count": null,
   "metadata": {},
   "outputs": [],
   "source": [
    "trained_model.load_weights('weights_pos2.h5')"
   ]
  },
  {
   "cell_type": "code",
   "execution_count": null,
   "metadata": {},
   "outputs": [],
   "source": [
    "pretrained_pred = trained_model.predict(x_valid)"
   ]
  },
  {
   "cell_type": "code",
   "execution_count": null,
   "metadata": {},
   "outputs": [],
   "source": [
    "pred_mean_pretrained = np.hstack((pretrained_pred[0][:,1:3], pretrained_pred[1][:,1:3]))\n",
    "pred_std_pretrained = 1/np.sqrt(np.hstack((pretrained_pred[0][:,3:5], pretrained_pred[1][:,3:5])))"
   ]
  },
  {
   "cell_type": "markdown",
   "metadata": {},
   "source": [
    "### Residuals"
   ]
  },
  {
   "cell_type": "code",
   "execution_count": null,
   "metadata": {
    "scrolled": false
   },
   "outputs": [],
   "source": [
    "nbins=10000\n",
    "nparticles = int(pred_mean_trained.shape[1]/2)\n",
    "fig, axs = plt.subplots(nparticles,2,sharey=True,sharex=True,tight_layout=True, figsize=[12,4*nparticles])\n",
    "axs[0][0].set_xlim([-4,4])\n",
    "for i in range(0,nparticles):\n",
    "    axs[i][0].hist(pred_mean_trained[:,i] - y_valid[:,i], bins=nbins, density=True, histtype='step', color='r')\n",
    "    axs[i][0].hist(pred_mean_pretrained[:,i] - y_valid[:,i], bins=nbins, density=True, histtype='step', color='b')\n",
    "    axs[i][0].grid(True, linestyle='-.')\n",
    "    axs[i][0].title.set_text('x'+str(i+1)+' residual')\n",
    "    axs[i][0].legend(['trained', 'pretrained'])\n",
    "    axs[i][1].hist(pred_mean_trained[:,i+1] - y_valid[:,i+1], bins=nbins, density=True, histtype='step', color='r')\n",
    "    axs[i][1].hist(pred_mean_pretrained[:,i+1] - y_valid[:,i+1], bins=nbins, density=True, histtype='step', color='b')\n",
    "    axs[i][1].grid(True, linestyle='-.')\n",
    "    axs[i][1].title.set_text('y'+str(i+1)+' residual')\n",
    "    axs[i][1].legend(['trained', 'pretrained'])\n",
    "plt.savefig('2particleResiduals.png')\n",
    "plt.show()\n",
    "plt.close()"
   ]
  },
  {
   "cell_type": "markdown",
   "metadata": {},
   "source": [
    "### Pulls"
   ]
  },
  {
   "cell_type": "code",
   "execution_count": null,
   "metadata": {},
   "outputs": [],
   "source": [
    "nbins=10000\n",
    "nparticles = int(pred_mean_trained.shape[1]/2)\n",
    "fig, axs = plt.subplots(nparticles,2,sharey=True,sharex=True,tight_layout=True, figsize=[12,4*nparticles])\n",
    "axs[0][0].set_xlim([-4,4])\n",
    "for i in range(0,nparticles):\n",
    "    axs[i][0].hist((pred_mean_trained[:,i] - y_valid[:,i])/pred_std_trained[:,i], bins=nbins, density=True, histtype='step', color='r')\n",
    "    axs[i][0].hist((pred_mean_pretrained[:,i] - y_valid[:,i])/pred_std_pretrained[:,i], bins=nbins, density=True, histtype='step', color='b')\n",
    "    axs[i][0].grid(True, linestyle='-.')\n",
    "    axs[i][0].title.set_text('x'+str(i+1)+' pull')\n",
    "    axs[i][0].legend(['trained', 'pretrained'])\n",
    "    axs[i][1].hist((pred_mean_trained[:,i+1] - y_valid[:,i+1])/pred_std_trained[:,i], bins=nbins, density=True, histtype='step', color='r')\n",
    "    axs[i][1].hist((pred_mean_pretrained[:,i+1] - y_valid[:,i+1])/pred_std_pretrained[:,i], bins=nbins, density=True, histtype='step', color='b')\n",
    "    axs[i][1].grid(True, linestyle='-.')\n",
    "    axs[i][1].title.set_text('y'+str(i+1)+' pull')\n",
    "    axs[i][1].legend(['trained', 'pretrained'])\n",
    "plt.savefig('2particlePulls.png')\n",
    "plt.show()\n",
    "plt.close()"
   ]
  },
  {
   "cell_type": "markdown",
   "metadata": {},
   "source": [
    "# Three Particles"
   ]
  },
  {
   "cell_type": "code",
   "execution_count": null,
   "metadata": {},
   "outputs": [],
   "source": [
    "with h5py.File('NNinput_pos3_training.h5', 'r') as hf:  \n",
    "    #x_train = hf['train_data_x'][:]\n",
    "    #y_train = hf['train_data_y'][:]\n",
    "    x_valid = hf['valid_data_x'][:]\n",
    "    y_valid = hf['valid_data_y'][:]"
   ]
  },
  {
   "cell_type": "markdown",
   "metadata": {},
   "source": [
    "#### Locally Trained Model"
   ]
  },
  {
   "cell_type": "code",
   "execution_count": null,
   "metadata": {},
   "outputs": [],
   "source": [
    "trainedModelFile = \"Trained/pos3_06_15_1624\"\n",
    "trained_model = tf.keras.models.load_model(trainedModelFile, custom_objects={'abs' : tf.keras.backend.abs,\n",
    "                                                                        'loss' : mixture_density_loss(nb_components=1)})\n",
    "trained_model.load_weights('Trained/pos3_06_15_1624_best.h5')"
   ]
  },
  {
   "cell_type": "code",
   "execution_count": null,
   "metadata": {},
   "outputs": [],
   "source": [
    "trained_pred = trained_model.predict(x_valid)"
   ]
  },
  {
   "cell_type": "code",
   "execution_count": null,
   "metadata": {},
   "outputs": [],
   "source": [
    "pred_mean_trained = np.hstack((trained_pred[0][:,1:3], trained_pred[1][:,1:3], trained_pred[2][:,1:3]))\n",
    "pred_std_trained = 1/np.sqrt(np.hstack((trained_pred[0][:,3:5], trained_pred[1][:,3:5], trained_pred[2][:,3:5])))"
   ]
  },
  {
   "cell_type": "markdown",
   "metadata": {},
   "source": [
    "#### Elham's Pre-Trained Model"
   ]
  },
  {
   "cell_type": "code",
   "execution_count": null,
   "metadata": {},
   "outputs": [],
   "source": [
    "trained_model.load_weights('weights_pos3.h5')"
   ]
  },
  {
   "cell_type": "code",
   "execution_count": null,
   "metadata": {},
   "outputs": [],
   "source": [
    "pretrained_pred = trained_model.predict(x_valid)"
   ]
  },
  {
   "cell_type": "code",
   "execution_count": null,
   "metadata": {},
   "outputs": [],
   "source": [
    "pred_mean_pretrained = np.hstack((pretrained_pred[0][:,1:3], pretrained_pred[1][:,1:3], pretrained_pred[2][:,1:3]))\n",
    "pred_std_pretrained = 1/np.sqrt(np.hstack((pretrained_pred[0][:,3:5], pretrained_pred[1][:,3:5], pretrained_pred[2][:,3:5])))"
   ]
  },
  {
   "cell_type": "markdown",
   "metadata": {},
   "source": [
    "### Residuals"
   ]
  },
  {
   "cell_type": "code",
   "execution_count": null,
   "metadata": {
    "scrolled": false
   },
   "outputs": [],
   "source": [
    "nbins=10000\n",
    "nparticles = int(pred_mean_trained.shape[1]/2)\n",
    "fig, axs = plt.subplots(nparticles,2,sharey=True,sharex=True,tight_layout=True, figsize=[12,4*nparticles])\n",
    "axs[0][0].set_xlim([-4,4])\n",
    "for i in range(0,nparticles):\n",
    "    axs[i][0].hist(pred_mean_trained[:,i] - y_valid[:,i], bins=nbins, density=True, histtype='step', color='r')\n",
    "    axs[i][0].hist(pred_mean_pretrained[:,i] - y_valid[:,i], bins=nbins, density=True, histtype='step', color='b')\n",
    "    axs[i][0].grid(True, linestyle='-.')\n",
    "    axs[i][0].title.set_text('x'+str(i+1)+' residual')\n",
    "    axs[i][0].legend(['trained', 'pretrained'])\n",
    "    axs[i][1].hist(pred_mean_trained[:,i+1] - y_valid[:,i+1], bins=nbins, density=True, histtype='step', color='r')\n",
    "    axs[i][1].hist(pred_mean_pretrained[:,i+1] - y_valid[:,i+1], bins=nbins, density=True, histtype='step', color='b')\n",
    "    axs[i][1].grid(True, linestyle='-.')\n",
    "    axs[i][1].title.set_text('y'+str(i+1)+' residual')\n",
    "    axs[i][1].legend(['trained', 'pretrained'])\n",
    "plt.savefig('3particleResiduals.png')\n",
    "plt.show()\n",
    "plt.close()"
   ]
  },
  {
   "cell_type": "markdown",
   "metadata": {},
   "source": [
    "### Pulls"
   ]
  },
  {
   "cell_type": "code",
   "execution_count": null,
   "metadata": {},
   "outputs": [],
   "source": [
    "nbins=10000\n",
    "nparticles = int(pred_mean_trained.shape[1]/2)\n",
    "fig, axs = plt.subplots(nparticles,2,sharey=True,sharex=True,tight_layout=True, figsize=[12,4*nparticles])\n",
    "axs[0][0].set_xlim([-4,4])\n",
    "for i in range(0,nparticles):\n",
    "    axs[i][0].hist((pred_mean_trained[:,i] - y_valid[:,i])/pred_std_trained[:,i], bins=nbins, density=True, histtype='step', color='r')\n",
    "    axs[i][0].hist((pred_mean_pretrained[:,i] - y_valid[:,i])/pred_std_pretrained[:,i], bins=nbins, density=True, histtype='step', color='b')\n",
    "    axs[i][0].grid(True, linestyle='-.')\n",
    "    axs[i][0].title.set_text('x'+str(i+1)+' pull')\n",
    "    axs[i][0].legend(['trained', 'pretrained'])\n",
    "    axs[i][1].hist((pred_mean_trained[:,i+1] - y_valid[:,i+1])/pred_std_trained[:,i], bins=nbins, density=True, histtype='step', color='r')\n",
    "    axs[i][1].hist((pred_mean_pretrained[:,i+1] - y_valid[:,i+1])/pred_std_pretrained[:,i], bins=nbins, density=True, histtype='step', color='b')\n",
    "    axs[i][1].grid(True, linestyle='-.')\n",
    "    axs[i][1].title.set_text('y'+str(i+1)+' pull')\n",
    "    axs[i][1].legend(['trained', 'pretrained'])\n",
    "plt.savefig('3particlePulls.png')\n",
    "plt.show()\n",
    "plt.close()"
   ]
  },
  {
   "cell_type": "code",
   "execution_count": null,
   "metadata": {},
   "outputs": [],
   "source": []
  }
 ],
 "metadata": {
  "kernelspec": {
   "display_name": "Python 3",
   "language": "python",
   "name": "python3"
  },
  "language_info": {
   "codemirror_mode": {
    "name": "ipython",
    "version": 3
   },
   "file_extension": ".py",
   "mimetype": "text/x-python",
   "name": "python",
   "nbconvert_exporter": "python",
   "pygments_lexer": "ipython3",
   "version": "3.6.10"
  }
 },
 "nbformat": 4,
 "nbformat_minor": 4
}
