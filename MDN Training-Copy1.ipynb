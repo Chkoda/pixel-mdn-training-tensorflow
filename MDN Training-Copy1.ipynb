{
 "cells": [
  {
   "cell_type": "markdown",
   "metadata": {},
   "source": [
    "# Mixed Density Network Training"
   ]
  },
  {
   "cell_type": "code",
   "execution_count": 1,
   "metadata": {},
   "outputs": [
    {
     "name": "stderr",
     "output_type": "stream",
     "text": [
      "Using TensorFlow backend.\n"
     ]
    }
   ],
   "source": [
    "import os\n",
    "os.environ['KERAS_BACKEND'] = 'tensorflow'\n",
    "import tensorflow as tf\n",
    "import keras"
   ]
  },
  {
   "cell_type": "code",
   "execution_count": 2,
   "metadata": {},
   "outputs": [],
   "source": [
    "import genconfig\n",
    "from train_MDN_Copy import train_nn, mixture_density_loss"
   ]
  },
  {
   "cell_type": "markdown",
   "metadata": {},
   "source": [
    "Create Config file, options are : 'number','pos1','pos2','pos3', 'error1x', 'error1y', 'error2x', 'error2y', 'error3x', 'error3y'  \n",
    "Below is example of pos2 only"
   ]
  },
  {
   "cell_type": "code",
   "execution_count": 3,
   "metadata": {},
   "outputs": [],
   "source": [
    "!python genconfig.py --type pos2 > pos2config.json"
   ]
  },
  {
   "cell_type": "markdown",
   "metadata": {},
   "source": [
    "Now with generated config run train_nn which stores training history in text file in training_output directory"
   ]
  },
  {
   "cell_type": "code",
   "execution_count": 3,
   "metadata": {
    "scrolled": true
   },
   "outputs": [
    {
     "name": "stdout",
     "output_type": "stream",
     "text": [
      "loading config from:  pos2config.json\n"
     ]
    },
    {
     "data": {
      "text/plain": [
       "{'inputs': ['NN_matrix0',\n",
       "  'NN_matrix1',\n",
       "  'NN_matrix2',\n",
       "  'NN_matrix3',\n",
       "  'NN_matrix4',\n",
       "  'NN_matrix5',\n",
       "  'NN_matrix6',\n",
       "  'NN_matrix7',\n",
       "  'NN_matrix8',\n",
       "  'NN_matrix9',\n",
       "  'NN_matrix10',\n",
       "  'NN_matrix11',\n",
       "  'NN_matrix12',\n",
       "  'NN_matrix13',\n",
       "  'NN_matrix14',\n",
       "  'NN_matrix15',\n",
       "  'NN_matrix16',\n",
       "  'NN_matrix17',\n",
       "  'NN_matrix18',\n",
       "  'NN_matrix19',\n",
       "  'NN_matrix20',\n",
       "  'NN_matrix21',\n",
       "  'NN_matrix22',\n",
       "  'NN_matrix23',\n",
       "  'NN_matrix24',\n",
       "  'NN_matrix25',\n",
       "  'NN_matrix26',\n",
       "  'NN_matrix27',\n",
       "  'NN_matrix28',\n",
       "  'NN_matrix29',\n",
       "  'NN_matrix30',\n",
       "  'NN_matrix31',\n",
       "  'NN_matrix32',\n",
       "  'NN_matrix33',\n",
       "  'NN_matrix34',\n",
       "  'NN_matrix35',\n",
       "  'NN_matrix36',\n",
       "  'NN_matrix37',\n",
       "  'NN_matrix38',\n",
       "  'NN_matrix39',\n",
       "  'NN_matrix40',\n",
       "  'NN_matrix41',\n",
       "  'NN_matrix42',\n",
       "  'NN_matrix43',\n",
       "  'NN_matrix44',\n",
       "  'NN_matrix45',\n",
       "  'NN_matrix46',\n",
       "  'NN_matrix47',\n",
       "  'NN_matrix48',\n",
       "  'NN_pitches0',\n",
       "  'NN_pitches1',\n",
       "  'NN_pitches2',\n",
       "  'NN_pitches3',\n",
       "  'NN_pitches4',\n",
       "  'NN_pitches5',\n",
       "  'NN_pitches6',\n",
       "  'NN_layer',\n",
       "  'NN_barrelEC',\n",
       "  'NN_phi',\n",
       "  'NN_theta'],\n",
       " 'targets': ['NN_position_id_X_0',\n",
       "  'NN_position_id_Y_0',\n",
       "  'NN_position_id_X_1',\n",
       "  'NN_position_id_Y_1'],\n",
       " 'metadata': ['RunNumber',\n",
       "  'EventNumber',\n",
       "  'ClusterNumber',\n",
       "  'NN_sizeX',\n",
       "  'NN_sizeY',\n",
       "  'NN_localEtaPixelIndexWeightedPosition',\n",
       "  'NN_localPhiPixelIndexWeightedPosition',\n",
       "  'NN_layer',\n",
       "  'NN_barrelEC',\n",
       "  'NN_etaModule',\n",
       "  'NN_phi',\n",
       "  'NN_theta',\n",
       "  'globalX',\n",
       "  'globalY',\n",
       "  'globalZ',\n",
       "  'globalEta',\n",
       "  'NN_pitches0',\n",
       "  'NN_pitches1',\n",
       "  'NN_pitches2',\n",
       "  'NN_pitches3',\n",
       "  'NN_pitches4',\n",
       "  'NN_pitches5',\n",
       "  'NN_pitches6']}"
      ]
     },
     "execution_count": 3,
     "metadata": {},
     "output_type": "execute_result"
    }
   ],
   "source": [
    "from collections import namedtuple\n",
    "import yaml\n",
    "Option = namedtuple(\"MyStruct\", \"training_input training_output validation_fraction outFile network_type config structure learning_rate regularizer epochs\")\n",
    "\n",
    "options = Option(\n",
    "    training_input='NNinput_pos2_training.h5',\n",
    "    training_output='Trained',\n",
    "    validation_fraction=0.1,\n",
    "    outFile='pos2',\n",
    "    network_type='2particle',\n",
    "    config='pos2config.json',\n",
    "    structure=[100, 80, 50],\n",
    "    learning_rate=0.0001,\n",
    "    regularizer=0.0001,\n",
    "    epochs=1,\n",
    ")\n",
    "\n",
    "print('loading config from: ', options.config)\n",
    "config = open(options.config, 'r')\n",
    "yamlConfig = yaml.load(config, Loader=yaml.FullLoader)\n",
    "yamlConfig"
   ]
  },
  {
   "cell_type": "code",
   "execution_count": 4,
   "metadata": {},
   "outputs": [
    {
     "name": "stdout",
     "output_type": "stream",
     "text": [
      "(['NN_matrix0', 'NN_matrix1', 'NN_matrix2', 'NN_matrix3', 'NN_matrix4', 'NN_matrix5', 'NN_matrix6', 'NN_matrix7', 'NN_matrix8', 'NN_matrix9', 'NN_matrix10', 'NN_matrix11', 'NN_matrix12', 'NN_matrix13', 'NN_matrix14', 'NN_matrix15', 'NN_matrix16', 'NN_matrix17', 'NN_matrix18', 'NN_matrix19', 'NN_matrix20', 'NN_matrix21', 'NN_matrix22', 'NN_matrix23', 'NN_matrix24', 'NN_matrix25', 'NN_matrix26', 'NN_matrix27', 'NN_matrix28', 'NN_matrix29', 'NN_matrix30', 'NN_matrix31', 'NN_matrix32', 'NN_matrix33', 'NN_matrix34', 'NN_matrix35', 'NN_matrix36', 'NN_matrix37', 'NN_matrix38', 'NN_matrix39', 'NN_matrix40', 'NN_matrix41', 'NN_matrix42', 'NN_matrix43', 'NN_matrix44', 'NN_matrix45', 'NN_matrix46', 'NN_matrix47', 'NN_matrix48', 'NN_pitches0', 'NN_pitches1', 'NN_pitches2', 'NN_pitches3', 'NN_pitches4', 'NN_pitches5', 'NN_pitches6', 'NN_layer', 'NN_barrelEC', 'NN_phi', 'NN_theta'], ['NN_position_id_X_0', 'NN_position_id_Y_0', 'NN_position_id_X_1', 'NN_position_id_Y_1'], [])\n",
      "Model: \"model_1\"\n",
      "__________________________________________________________________________________________________\n",
      "Layer (type)                    Output Shape         Param #     Connected to                     \n",
      "==================================================================================================\n",
      "input_1 (InputLayer)            (None, 60)           0                                            \n",
      "__________________________________________________________________________________________________\n",
      "dense_1 (Dense)                 (None, 100)          6100        input_1[0][0]                    \n",
      "__________________________________________________________________________________________________\n",
      "dense_2 (Dense)                 (None, 80)           8080        dense_1[0][0]                    \n",
      "__________________________________________________________________________________________________\n",
      "dense_3 (Dense)                 (None, 50)           4050        dense_2[0][0]                    \n",
      "__________________________________________________________________________________________________\n",
      "dense_4 (Dense)                 (None, 1)            51          dense_3[0][0]                    \n",
      "__________________________________________________________________________________________________\n",
      "dense_5 (Dense)                 (None, 2)            102         dense_3[0][0]                    \n",
      "__________________________________________________________________________________________________\n",
      "dense_6 (Dense)                 (None, 2)            102         dense_3[0][0]                    \n",
      "__________________________________________________________________________________________________\n",
      "dense_7 (Dense)                 (None, 1)            51          dense_3[0][0]                    \n",
      "__________________________________________________________________________________________________\n",
      "dense_8 (Dense)                 (None, 2)            102         dense_3[0][0]                    \n",
      "__________________________________________________________________________________________________\n",
      "dense_9 (Dense)                 (None, 2)            102         dense_3[0][0]                    \n",
      "__________________________________________________________________________________________________\n",
      "concatenate_1 (Concatenate)     (None, 5)            0           dense_4[0][0]                    \n",
      "                                                                 dense_5[0][0]                    \n",
      "                                                                 dense_6[0][0]                    \n",
      "__________________________________________________________________________________________________\n",
      "concatenate_2 (Concatenate)     (None, 5)            0           dense_7[0][0]                    \n",
      "                                                                 dense_8[0][0]                    \n",
      "                                                                 dense_9[0][0]                    \n",
      "==================================================================================================\n",
      "Total params: 18,740\n",
      "Trainable params: 18,740\n",
      "Non-trainable params: 0\n",
      "__________________________________________________________________________________________________\n",
      "None\n",
      "WARNING:tensorflow:From C:\\Users\\alexc\\Anaconda3\\envs\\MDNtraining_TF\\lib\\site-packages\\tensorflow_core\\python\\ops\\math_grad.py:303: setdiff1d (from tensorflow.python.ops.array_ops) is deprecated and will be removed after 2018-11-30.\n",
      "Instructions for updating:\n",
      "This op will be removed after the deprecation date. Please switch to tf.sets.difference().\n",
      "Train on 9720000 samples, validate on 1080000 samples\n",
      "Epoch 1/1\n",
      " - 274s - loss: 0.6847 - concatenate_1_loss: 0.2402 - concatenate_2_loss: 0.4217 - val_loss: 0.5165 - val_concatenate_1_loss: 0.1626 - val_concatenate_2_loss: 0.3317\n",
      "\n",
      "Epoch 00001: val_loss improved from inf to 0.51655, saving model to Trained/pos2.h5\n"
     ]
    }
   ],
   "source": [
    "model, history = train_nn(\n",
    "                        options.training_input,\n",
    "                        options.training_output,\n",
    "                        options.validation_fraction,\n",
    "                        options.outFile,\n",
    "                        options.network_type,\n",
    "                        options.config,\n",
    "                        options.structure,\n",
    "                        options.learning_rate,\n",
    "                        options.regularizer,\n",
    "                        options.epochs,\n",
    "                        #args.momentum,\n",
    "                        #args.batch,\n",
    "                        ##args.min_epochs,\n",
    "                        #args.max_epochs,\n",
    "                        ##args.patience_increase,\n",
    "                        ##args.threshold,\n",
    "                        #args.min_delta,\n",
    "                        #args.patience,\n",
    "                        #args.profile,\n",
    "                        #args.nbworkers,\n",
    "                        #args.save_all,\n",
    "                        )"
   ]
  },
  {
   "cell_type": "markdown",
   "metadata": {},
   "source": [
    "Saving the model"
   ]
  },
  {
   "cell_type": "code",
   "execution_count": 1,
   "metadata": {},
   "outputs": [
    {
     "ename": "NameError",
     "evalue": "name 'model' is not defined",
     "output_type": "error",
     "traceback": [
      "\u001b[1;31m---------------------------------------------------------------------------\u001b[0m",
      "\u001b[1;31mNameError\u001b[0m                                 Traceback (most recent call last)",
      "\u001b[1;32m<ipython-input-1-1f8a688cae5d>\u001b[0m in \u001b[0;36m<module>\u001b[1;34m\u001b[0m\n\u001b[1;32m----> 1\u001b[1;33m \u001b[0mmodel\u001b[0m\u001b[1;33m\u001b[0m\u001b[1;33m\u001b[0m\u001b[0m\n\u001b[0m",
      "\u001b[1;31mNameError\u001b[0m: name 'model' is not defined"
     ]
    }
   ],
   "source": [
    "model"
   ]
  },
  {
   "cell_type": "code",
   "execution_count": null,
   "metadata": {},
   "outputs": [],
   "source": [
    "training_output = 'Trained'\n",
    "outFile = 'pos2'\n",
    "output_location = training_output+'/'+outFile+'_'+datetime.datetime.now().strftime('%m_%d_%H%M')"
   ]
  },
  {
   "cell_type": "code",
   "execution_count": null,
   "metadata": {
    "scrolled": true
   },
   "outputs": [],
   "source": [
    "model.save(output_location)"
   ]
  },
  {
   "cell_type": "code",
   "execution_count": null,
   "metadata": {},
   "outputs": [],
   "source": [
    "new_model = tf.keras.models.load_model(output_location, custom_objects={'abs' : tf.keras.backend.abs,\n",
    "                                                                        'loss' : mixture_density_loss(nb_components=1)})"
   ]
  },
  {
   "cell_type": "markdown",
   "metadata": {},
   "source": [
    "Tensorflow 2.x features method model.save() which creates model file that stores both the weights and architecture. Loading the model from this format requires only custom objects like the above activation and loss functions to be provided. That means it includes the config, optimizer, and weights of the model. Older Tensorflow/keras model saving format required saving a weights .h5 file as well as the config and rebuilding the model and its architecture from that, which still requires the custom objects as well."
   ]
  },
  {
   "cell_type": "code",
   "execution_count": null,
   "metadata": {},
   "outputs": [],
   "source": [
    "model.get_config()"
   ]
  },
  {
   "cell_type": "code",
   "execution_count": null,
   "metadata": {},
   "outputs": [],
   "source": []
  }
 ],
 "metadata": {
  "kernelspec": {
   "display_name": "Python 3",
   "language": "python",
   "name": "python3"
  },
  "language_info": {
   "codemirror_mode": {
    "name": "ipython",
    "version": 3
   },
   "file_extension": ".py",
   "mimetype": "text/x-python",
   "name": "python",
   "nbconvert_exporter": "python",
   "pygments_lexer": "ipython3",
   "version": "3.6.10"
  }
 },
 "nbformat": 4,
 "nbformat_minor": 2
}
