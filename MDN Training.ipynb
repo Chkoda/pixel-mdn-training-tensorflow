{
 "cells": [
  {
   "cell_type": "markdown",
   "metadata": {},
   "source": [
    "# Mixed Density Network Training"
   ]
  },
  {
   "cell_type": "code",
   "execution_count": 1,
   "metadata": {},
   "outputs": [
    {
     "name": "stderr",
     "output_type": "stream",
     "text": [
      "Using TensorFlow backend.\n"
     ]
    }
   ],
   "source": [
    "import os\n",
    "os.environ['KERAS_BACKEND'] = 'tensorflow'\n",
    "import tensorflow as tf\n",
    "import keras"
   ]
  },
  {
   "cell_type": "code",
   "execution_count": 2,
   "metadata": {},
   "outputs": [],
   "source": [
    "import genconfig\n",
    "from train_MDN import train_nn"
   ]
  },
  {
   "cell_type": "markdown",
   "metadata": {},
   "source": [
    "Create Config file, options are : 'number','pos1','pos2','pos3', 'error1x', 'error1y', 'error2x', 'error2y', 'error3x', 'error3y'  \n",
    "Below is example of pos2 only"
   ]
  },
  {
   "cell_type": "code",
   "execution_count": 3,
   "metadata": {},
   "outputs": [],
   "source": [
    "!python genconfig.py --type pos2 > pos2config.json"
   ]
  },
  {
   "cell_type": "markdown",
   "metadata": {},
   "source": [
    "Now with generated config run train_nn which stores training history in text file in training_output directory"
   ]
  },
  {
   "cell_type": "code",
   "execution_count": null,
   "metadata": {},
   "outputs": [
    {
     "name": "stdout",
     "output_type": "stream",
     "text": [
      "(['NN_matrix0', 'NN_matrix1', 'NN_matrix2', 'NN_matrix3', 'NN_matrix4', 'NN_matrix5', 'NN_matrix6', 'NN_matrix7', 'NN_matrix8', 'NN_matrix9', 'NN_matrix10', 'NN_matrix11', 'NN_matrix12', 'NN_matrix13', 'NN_matrix14', 'NN_matrix15', 'NN_matrix16', 'NN_matrix17', 'NN_matrix18', 'NN_matrix19', 'NN_matrix20', 'NN_matrix21', 'NN_matrix22', 'NN_matrix23', 'NN_matrix24', 'NN_matrix25', 'NN_matrix26', 'NN_matrix27', 'NN_matrix28', 'NN_matrix29', 'NN_matrix30', 'NN_matrix31', 'NN_matrix32', 'NN_matrix33', 'NN_matrix34', 'NN_matrix35', 'NN_matrix36', 'NN_matrix37', 'NN_matrix38', 'NN_matrix39', 'NN_matrix40', 'NN_matrix41', 'NN_matrix42', 'NN_matrix43', 'NN_matrix44', 'NN_matrix45', 'NN_matrix46', 'NN_matrix47', 'NN_matrix48', 'NN_pitches0', 'NN_pitches1', 'NN_pitches2', 'NN_pitches3', 'NN_pitches4', 'NN_pitches5', 'NN_pitches6', 'NN_layer', 'NN_barrelEC', 'NN_phi', 'NN_theta'], ['NN_position_id_X_0', 'NN_position_id_Y_0', 'NN_position_id_X_1', 'NN_position_id_Y_1'], [])\n",
      "Model: \"model_1\"\n",
      "__________________________________________________________________________________________________\n",
      "Layer (type)                    Output Shape         Param #     Connected to                     \n",
      "==================================================================================================\n",
      "input_1 (InputLayer)            (None, 60)           0                                            \n",
      "__________________________________________________________________________________________________\n",
      "dense_1 (Dense)                 (None, 100)          6100        input_1[0][0]                    \n",
      "__________________________________________________________________________________________________\n",
      "dense_2 (Dense)                 (None, 80)           8080        dense_1[0][0]                    \n",
      "__________________________________________________________________________________________________\n",
      "dense_3 (Dense)                 (None, 50)           4050        dense_2[0][0]                    \n",
      "__________________________________________________________________________________________________\n",
      "dense_4 (Dense)                 (None, 1)            51          dense_3[0][0]                    \n",
      "__________________________________________________________________________________________________\n",
      "dense_5 (Dense)                 (None, 2)            102         dense_3[0][0]                    \n",
      "__________________________________________________________________________________________________\n",
      "dense_6 (Dense)                 (None, 2)            102         dense_3[0][0]                    \n",
      "__________________________________________________________________________________________________\n",
      "dense_7 (Dense)                 (None, 1)            51          dense_3[0][0]                    \n",
      "__________________________________________________________________________________________________\n",
      "dense_8 (Dense)                 (None, 2)            102         dense_3[0][0]                    \n",
      "__________________________________________________________________________________________________\n",
      "dense_9 (Dense)                 (None, 2)            102         dense_3[0][0]                    \n",
      "__________________________________________________________________________________________________\n",
      "concatenate_1 (Concatenate)     (None, 5)            0           dense_4[0][0]                    \n",
      "                                                                 dense_5[0][0]                    \n",
      "                                                                 dense_6[0][0]                    \n",
      "__________________________________________________________________________________________________\n",
      "concatenate_2 (Concatenate)     (None, 5)            0           dense_7[0][0]                    \n",
      "                                                                 dense_8[0][0]                    \n",
      "                                                                 dense_9[0][0]                    \n",
      "==================================================================================================\n",
      "Total params: 18,740\n",
      "Trainable params: 18,740\n",
      "Non-trainable params: 0\n",
      "__________________________________________________________________________________________________\n",
      "None\n",
      "WARNING:tensorflow:From C:\\Users\\alexc\\Anaconda3\\envs\\MDNtraining_TF\\lib\\site-packages\\tensorflow_core\\python\\ops\\math_grad.py:303: setdiff1d (from tensorflow.python.ops.array_ops) is deprecated and will be removed after 2018-11-30.\n",
      "Instructions for updating:\n",
      "This op will be removed after the deprecation date. Please switch to tf.sets.difference().\n",
      "Train on 9720000 samples, validate on 1080000 samples\n",
      "Epoch 1/2\n"
     ]
    }
   ],
   "source": [
    "train_nn(\n",
    "    training_input='Data/NNinput_pos2_training.h5',\n",
    "    training_output='Data_tf',\n",
    "    validation_fraction=0.1,\n",
    "    outFile='pos2_trained',\n",
    "    network_type='2particle',\n",
    "    config='pos2config.json',\n",
    "    structure=[100, 80, 50],\n",
    "    learning_rate=0.0001,\n",
    "    regularizer=0.0001,\n",
    "    epochs=2,\n",
    "    #args.momentum,\n",
    "    #args.batch,\n",
    "    ##args.min_epochs,\n",
    "    #args.max_epochs,\n",
    "    ##args.patience_increase,\n",
    "    ##args.threshold,\n",
    "    #args.min_delta,\n",
    "    #args.patience,\n",
    "    #args.profile,\n",
    "    #args.nbworkers,\n",
    "    #args.save_all,\n",
    ")"
   ]
  },
  {
   "cell_type": "code",
   "execution_count": null,
   "metadata": {},
   "outputs": [],
   "source": []
  }
 ],
 "metadata": {
  "kernelspec": {
   "display_name": "Python 3",
   "language": "python",
   "name": "python3"
  },
  "language_info": {
   "codemirror_mode": {
    "name": "ipython",
    "version": 3
   },
   "file_extension": ".py",
   "mimetype": "text/x-python",
   "name": "python",
   "nbconvert_exporter": "python",
   "pygments_lexer": "ipython3",
   "version": "3.6.10"
  }
 },
 "nbformat": 4,
 "nbformat_minor": 2
}
