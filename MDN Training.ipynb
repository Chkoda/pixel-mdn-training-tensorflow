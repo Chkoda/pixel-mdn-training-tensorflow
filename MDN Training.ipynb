{
 "cells": [
  {
   "cell_type": "markdown",
   "metadata": {},
   "source": [
    "# Mixed Density Network Training"
   ]
  },
  {
   "cell_type": "code",
   "execution_count": 176,
   "metadata": {},
   "outputs": [],
   "source": [
    "import os\n",
    "os.environ['KERAS_BACKEND'] = 'tensorflow'\n",
    "import tensorflow as tf\n",
    "import keras\n",
    "import h5py\n",
    "import utils\n",
    "import numpy as np"
   ]
  },
  {
   "cell_type": "code",
   "execution_count": 2,
   "metadata": {},
   "outputs": [],
   "source": [
    "import genconfig\n",
    "from train_MDN import train_nn, mixture_density_loss"
   ]
  },
  {
   "cell_type": "code",
   "execution_count": null,
   "metadata": {},
   "outputs": [],
   "source": [
    "from collections import namedtuple\n",
    "import yaml\n",
    "Option = namedtuple(\"MyStruct\", \"training_input training_output validation_fraction outFile network_type \\\n",
    "                    config structure learning_rate regularizer epochs\")"
   ]
  },
  {
   "cell_type": "markdown",
   "metadata": {},
   "source": [
    "# Two Particle Training"
   ]
  },
  {
   "cell_type": "markdown",
   "metadata": {},
   "source": [
    "Create Config file, options are : 'number','pos1','pos2','pos3', 'error1x', 'error1y', 'error2x', 'error2y', 'error3x', 'error3y'  \n",
    "Below is example of pos2"
   ]
  },
  {
   "cell_type": "code",
   "execution_count": 3,
   "metadata": {},
   "outputs": [],
   "source": [
    "!python genconfig.py --type pos2 > pos2config.json"
   ]
  },
  {
   "cell_type": "markdown",
   "metadata": {},
   "source": [
    "Now with generated config run train_nn which stores training history in text file in training_output directory"
   ]
  },
  {
   "cell_type": "code",
   "execution_count": 3,
   "metadata": {
    "collapsed": true
   },
   "outputs": [
    {
     "name": "stdout",
     "output_type": "stream",
     "text": [
      "loading config from:  pos2config.json\n"
     ]
    },
    {
     "data": {
      "text/plain": [
       "{'inputs': ['NN_matrix0',\n",
       "  'NN_matrix1',\n",
       "  'NN_matrix2',\n",
       "  'NN_matrix3',\n",
       "  'NN_matrix4',\n",
       "  'NN_matrix5',\n",
       "  'NN_matrix6',\n",
       "  'NN_matrix7',\n",
       "  'NN_matrix8',\n",
       "  'NN_matrix9',\n",
       "  'NN_matrix10',\n",
       "  'NN_matrix11',\n",
       "  'NN_matrix12',\n",
       "  'NN_matrix13',\n",
       "  'NN_matrix14',\n",
       "  'NN_matrix15',\n",
       "  'NN_matrix16',\n",
       "  'NN_matrix17',\n",
       "  'NN_matrix18',\n",
       "  'NN_matrix19',\n",
       "  'NN_matrix20',\n",
       "  'NN_matrix21',\n",
       "  'NN_matrix22',\n",
       "  'NN_matrix23',\n",
       "  'NN_matrix24',\n",
       "  'NN_matrix25',\n",
       "  'NN_matrix26',\n",
       "  'NN_matrix27',\n",
       "  'NN_matrix28',\n",
       "  'NN_matrix29',\n",
       "  'NN_matrix30',\n",
       "  'NN_matrix31',\n",
       "  'NN_matrix32',\n",
       "  'NN_matrix33',\n",
       "  'NN_matrix34',\n",
       "  'NN_matrix35',\n",
       "  'NN_matrix36',\n",
       "  'NN_matrix37',\n",
       "  'NN_matrix38',\n",
       "  'NN_matrix39',\n",
       "  'NN_matrix40',\n",
       "  'NN_matrix41',\n",
       "  'NN_matrix42',\n",
       "  'NN_matrix43',\n",
       "  'NN_matrix44',\n",
       "  'NN_matrix45',\n",
       "  'NN_matrix46',\n",
       "  'NN_matrix47',\n",
       "  'NN_matrix48',\n",
       "  'NN_pitches0',\n",
       "  'NN_pitches1',\n",
       "  'NN_pitches2',\n",
       "  'NN_pitches3',\n",
       "  'NN_pitches4',\n",
       "  'NN_pitches5',\n",
       "  'NN_pitches6',\n",
       "  'NN_layer',\n",
       "  'NN_barrelEC',\n",
       "  'NN_phi',\n",
       "  'NN_theta'],\n",
       " 'targets': ['NN_position_id_X_0',\n",
       "  'NN_position_id_Y_0',\n",
       "  'NN_position_id_X_1',\n",
       "  'NN_position_id_Y_1'],\n",
       " 'metadata': ['RunNumber',\n",
       "  'EventNumber',\n",
       "  'ClusterNumber',\n",
       "  'NN_sizeX',\n",
       "  'NN_sizeY',\n",
       "  'NN_localEtaPixelIndexWeightedPosition',\n",
       "  'NN_localPhiPixelIndexWeightedPosition',\n",
       "  'NN_layer',\n",
       "  'NN_barrelEC',\n",
       "  'NN_etaModule',\n",
       "  'NN_phi',\n",
       "  'NN_theta',\n",
       "  'globalX',\n",
       "  'globalY',\n",
       "  'globalZ',\n",
       "  'globalEta',\n",
       "  'NN_pitches0',\n",
       "  'NN_pitches1',\n",
       "  'NN_pitches2',\n",
       "  'NN_pitches3',\n",
       "  'NN_pitches4',\n",
       "  'NN_pitches5',\n",
       "  'NN_pitches6']}"
      ]
     },
     "execution_count": 3,
     "metadata": {},
     "output_type": "execute_result"
    }
   ],
   "source": [
    "options = Option(\n",
    "    training_input='NNinput_pos2_training.h5',\n",
    "    training_output='Trained',\n",
    "    validation_fraction=0.1,\n",
    "    outFile='pos2',\n",
    "    network_type='2particle',\n",
    "    config='pos2config.json',\n",
    "    structure=[100, 80, 50],\n",
    "    learning_rate=0.0001,\n",
    "    regularizer=0.0001,\n",
    "    epochs=150,\n",
    ")\n",
    "\n",
    "print('loading config from: ', options.config)\n",
    "config = open(options.config, 'r')\n",
    "yamlConfig = yaml.load(config, Loader=yaml.FullLoader)\n",
    "yamlConfig"
   ]
  },
  {
   "cell_type": "code",
   "execution_count": 5,
   "metadata": {
    "collapsed": true
   },
   "outputs": [
    {
     "name": "stdout",
     "output_type": "stream",
     "text": [
      "(['NN_matrix0', 'NN_matrix1', 'NN_matrix2', 'NN_matrix3', 'NN_matrix4', 'NN_matrix5', 'NN_matrix6', 'NN_matrix7', 'NN_matrix8', 'NN_matrix9', 'NN_matrix10', 'NN_matrix11', 'NN_matrix12', 'NN_matrix13', 'NN_matrix14', 'NN_matrix15', 'NN_matrix16', 'NN_matrix17', 'NN_matrix18', 'NN_matrix19', 'NN_matrix20', 'NN_matrix21', 'NN_matrix22', 'NN_matrix23', 'NN_matrix24', 'NN_matrix25', 'NN_matrix26', 'NN_matrix27', 'NN_matrix28', 'NN_matrix29', 'NN_matrix30', 'NN_matrix31', 'NN_matrix32', 'NN_matrix33', 'NN_matrix34', 'NN_matrix35', 'NN_matrix36', 'NN_matrix37', 'NN_matrix38', 'NN_matrix39', 'NN_matrix40', 'NN_matrix41', 'NN_matrix42', 'NN_matrix43', 'NN_matrix44', 'NN_matrix45', 'NN_matrix46', 'NN_matrix47', 'NN_matrix48', 'NN_pitches0', 'NN_pitches1', 'NN_pitches2', 'NN_pitches3', 'NN_pitches4', 'NN_pitches5', 'NN_pitches6', 'NN_layer', 'NN_barrelEC', 'NN_phi', 'NN_theta'], ['NN_position_id_X_0', 'NN_position_id_Y_0', 'NN_position_id_X_1', 'NN_position_id_Y_1'], [])\n",
      "Model: \"model_1\"\n",
      "__________________________________________________________________________________________________\n",
      "Layer (type)                    Output Shape         Param #     Connected to                     \n",
      "==================================================================================================\n",
      "input_1 (InputLayer)            (None, 60)           0                                            \n",
      "__________________________________________________________________________________________________\n",
      "dense_1 (Dense)                 (None, 100)          6100        input_1[0][0]                    \n",
      "__________________________________________________________________________________________________\n",
      "dense_2 (Dense)                 (None, 80)           8080        dense_1[0][0]                    \n",
      "__________________________________________________________________________________________________\n",
      "dense_3 (Dense)                 (None, 50)           4050        dense_2[0][0]                    \n",
      "__________________________________________________________________________________________________\n",
      "dense_4 (Dense)                 (None, 1)            51          dense_3[0][0]                    \n",
      "__________________________________________________________________________________________________\n",
      "dense_5 (Dense)                 (None, 2)            102         dense_3[0][0]                    \n",
      "__________________________________________________________________________________________________\n",
      "dense_6 (Dense)                 (None, 2)            102         dense_3[0][0]                    \n",
      "__________________________________________________________________________________________________\n",
      "dense_7 (Dense)                 (None, 1)            51          dense_3[0][0]                    \n",
      "__________________________________________________________________________________________________\n",
      "dense_8 (Dense)                 (None, 2)            102         dense_3[0][0]                    \n",
      "__________________________________________________________________________________________________\n",
      "dense_9 (Dense)                 (None, 2)            102         dense_3[0][0]                    \n",
      "__________________________________________________________________________________________________\n",
      "concatenate_1 (Concatenate)     (None, 5)            0           dense_4[0][0]                    \n",
      "                                                                 dense_5[0][0]                    \n",
      "                                                                 dense_6[0][0]                    \n",
      "__________________________________________________________________________________________________\n",
      "concatenate_2 (Concatenate)     (None, 5)            0           dense_7[0][0]                    \n",
      "                                                                 dense_8[0][0]                    \n",
      "                                                                 dense_9[0][0]                    \n",
      "==================================================================================================\n",
      "Total params: 18,740\n",
      "Trainable params: 18,740\n",
      "Non-trainable params: 0\n",
      "__________________________________________________________________________________________________\n",
      "None\n",
      "WARNING:tensorflow:From C:\\Users\\alexc\\Anaconda3\\envs\\MDNtraining_TF\\lib\\site-packages\\tensorflow_core\\python\\ops\\math_grad.py:303: setdiff1d (from tensorflow.python.ops.array_ops) is deprecated and will be removed after 2018-11-30.\n",
      "Instructions for updating:\n",
      "This op will be removed after the deprecation date. Please switch to tf.sets.difference().\n",
      "Train on 9720000 samples, validate on 1080000 samples\n",
      "Epoch 1/150\n",
      " - 239s - loss: 0.6832 - concatenate_1_loss: 0.2392 - concatenate_2_loss: 0.4212 - val_loss: 0.5220 - val_concatenate_1_loss: 0.1651 - val_concatenate_2_loss: 0.3348\n",
      "\n",
      "Epoch 00001: val_loss improved from inf to 0.52198, saving model to Trained/pos2.h5\n",
      "Epoch 2/150\n",
      " - 244s - loss: 0.4679 - concatenate_1_loss: 0.1357 - concatenate_2_loss: 0.3095 - val_loss: 0.4235 - val_concatenate_1_loss: 0.1160 - val_concatenate_2_loss: 0.2838\n",
      "\n",
      "Epoch 00002: val_loss improved from 0.52198 to 0.42346, saving model to Trained/pos2.h5\n",
      "Epoch 3/150\n",
      " - 258s - loss: 0.3881 - concatenate_1_loss: 0.0959 - concatenate_2_loss: 0.2676 - val_loss: 0.3658 - val_concatenate_1_loss: 0.0873 - val_concatenate_2_loss: 0.2532\n",
      "\n",
      "Epoch 00003: val_loss improved from 0.42346 to 0.36577, saving model to Trained/pos2.h5\n",
      "Epoch 4/150\n",
      " - 257s - loss: 0.3375 - concatenate_1_loss: 0.0707 - concatenate_2_loss: 0.2408 - val_loss: 0.3336 - val_concatenate_1_loss: 0.0726 - val_concatenate_2_loss: 0.2344\n",
      "\n",
      "Epoch 00004: val_loss improved from 0.36577 to 0.33364, saving model to Trained/pos2.h5\n",
      "Epoch 5/150\n",
      " - 276s - loss: 0.3014 - concatenate_1_loss: 0.0523 - concatenate_2_loss: 0.2217 - val_loss: 0.2945 - val_concatenate_1_loss: 0.0506 - val_concatenate_2_loss: 0.2161\n",
      "\n",
      "Epoch 00005: val_loss improved from 0.33364 to 0.29450, saving model to Trained/pos2.h5\n",
      "Epoch 6/150\n",
      " - 276s - loss: 0.2752 - concatenate_1_loss: 0.0381 - concatenate_2_loss: 0.2087 - val_loss: 0.2689 - val_concatenate_1_loss: 0.0343 - val_concatenate_2_loss: 0.2057\n",
      "\n",
      "Epoch 00006: val_loss improved from 0.29450 to 0.26889, saving model to Trained/pos2.h5\n",
      "Epoch 7/150\n",
      " - 274s - loss: 0.2549 - concatenate_1_loss: 0.0268 - concatenate_2_loss: 0.1988 - val_loss: 0.2508 - val_concatenate_1_loss: 0.0272 - val_concatenate_2_loss: 0.1938\n",
      "\n",
      "Epoch 00007: val_loss improved from 0.26889 to 0.25079, saving model to Trained/pos2.h5\n",
      "Epoch 8/150\n",
      " - 274s - loss: 0.2386 - concatenate_1_loss: 0.0178 - concatenate_2_loss: 0.1905 - val_loss: 0.2345 - val_concatenate_1_loss: 0.0182 - val_concatenate_2_loss: 0.1856\n",
      "\n",
      "Epoch 00008: val_loss improved from 0.25079 to 0.23452, saving model to Trained/pos2.h5\n",
      "Epoch 9/150\n",
      " - 272s - loss: 0.2245 - concatenate_1_loss: 0.0096 - concatenate_2_loss: 0.1837 - val_loss: 0.2220 - val_concatenate_1_loss: 0.0084 - val_concatenate_2_loss: 0.1820\n",
      "\n",
      "Epoch 00009: val_loss improved from 0.23452 to 0.22200, saving model to Trained/pos2.h5\n",
      "Epoch 10/150\n",
      " - 275s - loss: 0.2122 - concatenate_1_loss: 0.0024 - concatenate_2_loss: 0.1777 - val_loss: 0.2154 - val_concatenate_1_loss: 0.0066 - val_concatenate_2_loss: 0.1763\n",
      "\n",
      "Epoch 00010: val_loss improved from 0.22200 to 0.21542, saving model to Trained/pos2.h5\n",
      "Epoch 11/150\n",
      " - 276s - loss: 0.2008 - concatenate_1_loss: -4.1455e-03 - concatenate_2_loss: 0.1721 - val_loss: 0.2016 - val_concatenate_1_loss: 8.3521e-05 - val_concatenate_2_loss: 0.1684\n",
      "\n",
      "Epoch 00011: val_loss improved from 0.21542 to 0.20165, saving model to Trained/pos2.h5\n",
      "Epoch 12/150\n",
      " - 276s - loss: 0.1912 - concatenate_1_loss: -9.6922e-03 - concatenate_2_loss: 0.1674 - val_loss: 0.1942 - val_concatenate_1_loss: -7.4402e-03 - val_concatenate_2_loss: 0.1679\n",
      "\n",
      "Epoch 00012: val_loss improved from 0.20165 to 0.19419, saving model to Trained/pos2.h5\n",
      "Epoch 13/150\n",
      " - 277s - loss: 0.1833 - concatenate_1_loss: -1.4059e-02 - concatenate_2_loss: 0.1634 - val_loss: 0.1845 - val_concatenate_1_loss: -1.4046e-02 - val_concatenate_2_loss: 0.1644\n",
      "\n",
      "Epoch 00013: val_loss improved from 0.19419 to 0.18452, saving model to Trained/pos2.h5\n",
      "Epoch 14/150\n",
      " - 275s - loss: 0.1763 - concatenate_1_loss: -1.8259e-02 - concatenate_2_loss: 0.1603 - val_loss: 0.1868 - val_concatenate_1_loss: -1.5604e-02 - val_concatenate_2_loss: 0.1680\n"
     ]
    },
    {
     "name": "stdout",
     "output_type": "stream",
     "text": [
      "\n",
      "Epoch 00014: val_loss did not improve from 0.18452\n",
      "Epoch 15/150\n",
      " - 274s - loss: 0.1704 - concatenate_1_loss: -2.1661e-02 - concatenate_2_loss: 0.1576 - val_loss: 0.1716 - val_concatenate_1_loss: -1.9528e-02 - val_concatenate_2_loss: 0.1565\n",
      "\n",
      "Epoch 00015: val_loss improved from 0.18452 to 0.17156, saving model to Trained/pos2.h5\n",
      "Epoch 16/150\n",
      " - 275s - loss: 0.1652 - concatenate_1_loss: -2.4518e-02 - concatenate_2_loss: 0.1550 - val_loss: 0.1740 - val_concatenate_1_loss: -2.3003e-02 - val_concatenate_2_loss: 0.1623\n",
      "\n",
      "Epoch 00016: val_loss did not improve from 0.17156\n",
      "Epoch 17/150\n",
      " - 273s - loss: 0.1606 - concatenate_1_loss: -2.6940e-02 - concatenate_2_loss: 0.1527 - val_loss: 0.1699 - val_concatenate_1_loss: -2.4697e-02 - val_concatenate_2_loss: 0.1597\n",
      "\n",
      "Epoch 00017: val_loss improved from 0.17156 to 0.16989, saving model to Trained/pos2.h5\n",
      "Epoch 18/150\n",
      " - 272s - loss: 0.1561 - concatenate_1_loss: -2.9508e-02 - concatenate_2_loss: 0.1505 - val_loss: 0.1621 - val_concatenate_1_loss: -2.5786e-02 - val_concatenate_2_loss: 0.1529\n",
      "\n",
      "Epoch 00018: val_loss improved from 0.16989 to 0.16214, saving model to Trained/pos2.h5\n",
      "Epoch 19/150\n",
      " - 274s - loss: 0.1527 - concatenate_1_loss: -3.1142e-02 - concatenate_2_loss: 0.1487 - val_loss: 0.1624 - val_concatenate_1_loss: -2.9106e-02 - val_concatenate_2_loss: 0.1563\n",
      "\n",
      "Epoch 00019: val_loss did not improve from 0.16214\n",
      "Epoch 20/150\n",
      " - 274s - loss: 0.1490 - concatenate_1_loss: -3.3103e-02 - concatenate_2_loss: 0.1468 - val_loss: 0.1541 - val_concatenate_1_loss: -3.0531e-02 - val_concatenate_2_loss: 0.1492\n",
      "\n",
      "Epoch 00020: val_loss improved from 0.16214 to 0.15406, saving model to Trained/pos2.h5\n",
      "Epoch 21/150\n",
      " - 273s - loss: 0.1456 - concatenate_1_loss: -3.4614e-02 - concatenate_2_loss: 0.1447 - val_loss: 0.1490 - val_concatenate_1_loss: -3.7472e-02 - val_concatenate_2_loss: 0.1509\n",
      "\n",
      "Epoch 00021: val_loss improved from 0.15406 to 0.14898, saving model to Trained/pos2.h5\n",
      "Epoch 22/150\n",
      " - 231s - loss: 0.1419 - concatenate_1_loss: -3.6338e-02 - concatenate_2_loss: 0.1426 - val_loss: 0.1397 - val_concatenate_1_loss: -3.7192e-02 - val_concatenate_2_loss: 0.1412\n",
      "\n",
      "Epoch 00022: val_loss improved from 0.14898 to 0.13966, saving model to Trained/pos2.h5\n",
      "Epoch 23/150\n",
      " - 229s - loss: 0.1392 - concatenate_1_loss: -3.7548e-02 - concatenate_2_loss: 0.1410 - val_loss: 0.1428 - val_concatenate_1_loss: -3.3265e-02 - val_concatenate_2_loss: 0.1402\n",
      "\n",
      "Epoch 00023: val_loss did not improve from 0.13966\n",
      "Epoch 24/150\n",
      " - 227s - loss: 0.1360 - concatenate_1_loss: -3.8860e-02 - concatenate_2_loss: 0.1390 - val_loss: 0.1379 - val_concatenate_1_loss: -3.3949e-02 - val_concatenate_2_loss: 0.1360\n",
      "\n",
      "Epoch 00024: val_loss improved from 0.13966 to 0.13793, saving model to Trained/pos2.h5\n",
      "Epoch 25/150\n",
      " - 276s - loss: 0.1336 - concatenate_1_loss: -4.0081e-02 - concatenate_2_loss: 0.1377 - val_loss: 0.1449 - val_concatenate_1_loss: -3.6570e-02 - val_concatenate_2_loss: 0.1455\n",
      "\n",
      "Epoch 00025: val_loss did not improve from 0.13793\n",
      "Epoch 26/150\n",
      " - 272s - loss: 0.1312 - concatenate_1_loss: -4.1175e-02 - concatenate_2_loss: 0.1363 - val_loss: 0.1404 - val_concatenate_1_loss: -3.4891e-02 - val_concatenate_2_loss: 0.1392\n",
      "\n",
      "Epoch 00026: val_loss did not improve from 0.13793\n",
      "Epoch 27/150\n",
      " - 265s - loss: 0.1283 - concatenate_1_loss: -4.2723e-02 - concatenate_2_loss: 0.1348 - val_loss: 0.1288 - val_concatenate_1_loss: -4.3037e-02 - val_concatenate_2_loss: 0.1357\n",
      "\n",
      "Epoch 00027: val_loss improved from 0.13793 to 0.12884, saving model to Trained/pos2.h5\n",
      "Epoch 28/150\n",
      " - 260s - loss: 0.1258 - concatenate_1_loss: -4.3714e-02 - concatenate_2_loss: 0.1333 - val_loss: 0.1237 - val_concatenate_1_loss: -4.3552e-02 - val_concatenate_2_loss: 0.1309\n",
      "\n",
      "Epoch 00028: val_loss improved from 0.12884 to 0.12368, saving model to Trained/pos2.h5\n",
      "Epoch 29/150\n",
      " - 261s - loss: 0.1232 - concatenate_1_loss: -4.4779e-02 - concatenate_2_loss: 0.1317 - val_loss: 0.1308 - val_concatenate_1_loss: -3.8448e-02 - val_concatenate_2_loss: 0.1328\n",
      "\n",
      "Epoch 00029: val_loss did not improve from 0.12368\n",
      "Epoch 30/150\n",
      " - 260s - loss: 0.1212 - concatenate_1_loss: -4.5893e-02 - concatenate_2_loss: 0.1306 - val_loss: 0.1253 - val_concatenate_1_loss: -4.3027e-02 - val_concatenate_2_loss: 0.1319\n",
      "\n",
      "Epoch 00030: val_loss did not improve from 0.12368\n",
      "Epoch 31/150\n",
      " - 260s - loss: 0.1190 - concatenate_1_loss: -4.6667e-02 - concatenate_2_loss: 0.1291 - val_loss: 0.1161 - val_concatenate_1_loss: -4.6752e-02 - val_concatenate_2_loss: 0.1263\n",
      "\n",
      "Epoch 00031: val_loss improved from 0.12368 to 0.11606, saving model to Trained/pos2.h5\n",
      "Epoch 32/150\n",
      " - 261s - loss: 0.1166 - concatenate_1_loss: -4.7680e-02 - concatenate_2_loss: 0.1277 - val_loss: 0.1208 - val_concatenate_1_loss: -4.5833e-02 - val_concatenate_2_loss: 0.1300\n",
      "\n",
      "Epoch 00032: val_loss did not improve from 0.11606\n",
      "Epoch 33/150\n",
      " - 259s - loss: 0.1143 - concatenate_1_loss: -4.8780e-02 - concatenate_2_loss: 0.1263 - val_loss: 0.1141 - val_concatenate_1_loss: -4.8399e-02 - val_concatenate_2_loss: 0.1257\n",
      "\n",
      "Epoch 00033: val_loss improved from 0.11606 to 0.11407, saving model to Trained/pos2.h5\n",
      "Epoch 34/150\n",
      " - 257s - loss: 0.1121 - concatenate_1_loss: -4.9883e-02 - concatenate_2_loss: 0.1252 - val_loss: 0.1143 - val_concatenate_1_loss: -4.9705e-02 - val_concatenate_2_loss: 0.1272\n",
      "\n",
      "Epoch 00034: val_loss did not improve from 0.11407\n",
      "Epoch 35/150\n",
      " - 215s - loss: 0.1106 - concatenate_1_loss: -5.0677e-02 - concatenate_2_loss: 0.1245 - val_loss: 0.1151 - val_concatenate_1_loss: -4.6042e-02 - val_concatenate_2_loss: 0.1243\n",
      "\n",
      "Epoch 00035: val_loss did not improve from 0.11407\n",
      "Epoch 36/150\n",
      " - 258s - loss: 0.1083 - concatenate_1_loss: -5.1848e-02 - concatenate_2_loss: 0.1232 - val_loss: 0.1154 - val_concatenate_1_loss: -4.7450e-02 - val_concatenate_2_loss: 0.1259\n",
      "\n",
      "Epoch 00036: val_loss did not improve from 0.11407\n",
      "Epoch 37/150\n",
      " - 257s - loss: 0.1064 - concatenate_1_loss: -5.2741e-02 - concatenate_2_loss: 0.1222 - val_loss: 0.1147 - val_concatenate_1_loss: -4.5102e-02 - val_concatenate_2_loss: 0.1228\n",
      "\n",
      "Epoch 00037: val_loss did not improve from 0.11407\n",
      "Epoch 38/150\n",
      " - 257s - loss: 0.1047 - concatenate_1_loss: -5.3543e-02 - concatenate_2_loss: 0.1213 - val_loss: 0.1197 - val_concatenate_1_loss: -4.3651e-02 - val_concatenate_2_loss: 0.1264\n",
      "\n",
      "Epoch 00038: val_loss did not improve from 0.11407\n",
      "Epoch 39/150\n",
      " - 258s - loss: 0.1027 - concatenate_1_loss: -5.4634e-02 - concatenate_2_loss: 0.1203 - val_loss: 0.1047 - val_concatenate_1_loss: -4.8837e-02 - val_concatenate_2_loss: 0.1165\n",
      "\n",
      "Epoch 00039: val_loss improved from 0.11407 to 0.10475, saving model to Trained/pos2.h5\n",
      "Epoch 40/150\n",
      " - 257s - loss: 0.1014 - concatenate_1_loss: -5.5233e-02 - concatenate_2_loss: 0.1195 - val_loss: 0.1158 - val_concatenate_1_loss: -5.0564e-02 - val_concatenate_2_loss: 0.1293\n",
      "\n",
      "Epoch 00040: val_loss did not improve from 0.10475\n",
      "Epoch 41/150\n",
      " - 259s - loss: 0.0991 - concatenate_1_loss: -5.6490e-02 - concatenate_2_loss: 0.1184 - val_loss: 0.1095 - val_concatenate_1_loss: -4.9320e-02 - val_concatenate_2_loss: 0.1216\n",
      "\n",
      "Epoch 00041: val_loss did not improve from 0.10475\n",
      "Epoch 42/150\n",
      " - 257s - loss: 0.0977 - concatenate_1_loss: -5.6987e-02 - concatenate_2_loss: 0.1175 - val_loss: 0.1000 - val_concatenate_1_loss: -5.3453e-02 - val_concatenate_2_loss: 0.1162\n",
      "\n",
      "Epoch 00042: val_loss improved from 0.10475 to 0.10003, saving model to Trained/pos2.h5\n",
      "Epoch 43/150\n",
      " - 257s - loss: 0.0954 - concatenate_1_loss: -5.8231e-02 - concatenate_2_loss: 0.1164 - val_loss: 0.1133 - val_concatenate_1_loss: -5.0594e-02 - val_concatenate_2_loss: 0.1266\n",
      "\n",
      "Epoch 00043: val_loss did not improve from 0.10003\n",
      "Epoch 44/150\n",
      " - 259s - loss: 0.0942 - concatenate_1_loss: -5.8869e-02 - concatenate_2_loss: 0.1157 - val_loss: 0.0932 - val_concatenate_1_loss: -5.6523e-02 - val_concatenate_2_loss: 0.1123\n",
      "\n",
      "Epoch 00044: val_loss improved from 0.10003 to 0.09321, saving model to Trained/pos2.h5\n",
      "Epoch 45/150\n",
      " - 257s - loss: 0.0926 - concatenate_1_loss: -5.9791e-02 - concatenate_2_loss: 0.1149 - val_loss: 0.1048 - val_concatenate_1_loss: -5.1616e-02 - val_concatenate_2_loss: 0.1190\n",
      "\n",
      "Epoch 00045: val_loss did not improve from 0.09321\n",
      "Epoch 46/150\n",
      " - 256s - loss: 0.0912 - concatenate_1_loss: -6.0562e-02 - concatenate_2_loss: 0.1143 - val_loss: 0.0959 - val_concatenate_1_loss: -5.2796e-02 - val_concatenate_2_loss: 0.1112\n"
     ]
    },
    {
     "name": "stdout",
     "output_type": "stream",
     "text": [
      "\n",
      "Epoch 00046: val_loss did not improve from 0.09321\n",
      "Epoch 47/150\n",
      " - 259s - loss: 0.0895 - concatenate_1_loss: -6.1717e-02 - concatenate_2_loss: 0.1137 - val_loss: 0.0995 - val_concatenate_1_loss: -5.4534e-02 - val_concatenate_2_loss: 0.1165\n",
      "\n",
      "Epoch 00047: val_loss did not improve from 0.09321\n",
      "Epoch 48/150\n",
      " - 272s - loss: 0.0878 - concatenate_1_loss: -6.2579e-02 - concatenate_2_loss: 0.1127 - val_loss: 0.0978 - val_concatenate_1_loss: -5.7140e-02 - val_concatenate_2_loss: 0.1173\n",
      "\n",
      "Epoch 00048: val_loss did not improve from 0.09321\n",
      "Epoch 49/150\n",
      " - 224s - loss: 0.0868 - concatenate_1_loss: -6.3150e-02 - concatenate_2_loss: 0.1123 - val_loss: 0.1003 - val_concatenate_1_loss: -6.1175e-02 - val_concatenate_2_loss: 0.1238\n",
      "\n",
      "Epoch 00049: val_loss did not improve from 0.09321\n",
      "Epoch 50/150\n",
      " - 218s - loss: 0.0854 - concatenate_1_loss: -6.4043e-02 - concatenate_2_loss: 0.1118 - val_loss: 0.0934 - val_concatenate_1_loss: -6.1096e-02 - val_concatenate_2_loss: 0.1168\n",
      "\n",
      "Epoch 00050: val_loss did not improve from 0.09321\n",
      "Epoch 51/150\n",
      " - 218s - loss: 0.0841 - concatenate_1_loss: -6.4743e-02 - concatenate_2_loss: 0.1110 - val_loss: 0.0912 - val_concatenate_1_loss: -5.7419e-02 - val_concatenate_2_loss: 0.1108\n",
      "\n",
      "Epoch 00051: val_loss improved from 0.09321 to 0.09117, saving model to Trained/pos2.h5\n",
      "Epoch 52/150\n",
      " - 227s - loss: 0.0828 - concatenate_1_loss: -6.5579e-02 - concatenate_2_loss: 0.1106 - val_loss: 0.0982 - val_concatenate_1_loss: -5.7947e-02 - val_concatenate_2_loss: 0.1184\n",
      "\n",
      "Epoch 00052: val_loss did not improve from 0.09117\n",
      "Epoch 53/150\n",
      " - 256s - loss: 0.0814 - concatenate_1_loss: -6.6021e-02 - concatenate_2_loss: 0.1097 - val_loss: 0.1047 - val_concatenate_1_loss: -5.1693e-02 - val_concatenate_2_loss: 0.1185\n",
      "\n",
      "Epoch 00053: val_loss did not improve from 0.09117\n",
      "Epoch 54/150\n",
      " - 236s - loss: 0.0805 - concatenate_1_loss: -6.6762e-02 - concatenate_2_loss: 0.1094 - val_loss: 0.0904 - val_concatenate_1_loss: -5.8144e-02 - val_concatenate_2_loss: 0.1107\n",
      "\n",
      "Epoch 00054: val_loss improved from 0.09117 to 0.09044, saving model to Trained/pos2.h5\n",
      "Epoch 55/150\n",
      " - 249s - loss: 0.0792 - concatenate_1_loss: -6.7302e-02 - concatenate_2_loss: 0.1086 - val_loss: 0.0876 - val_concatenate_1_loss: -6.4675e-02 - val_concatenate_2_loss: 0.1143\n",
      "\n",
      "Epoch 00055: val_loss improved from 0.09044 to 0.08757, saving model to Trained/pos2.h5\n",
      "Epoch 56/150\n",
      " - 255s - loss: 0.0782 - concatenate_1_loss: -6.7923e-02 - concatenate_2_loss: 0.1082 - val_loss: 0.0966 - val_concatenate_1_loss: -6.0248e-02 - val_concatenate_2_loss: 0.1190\n",
      "\n",
      "Epoch 00056: val_loss did not improve from 0.08757\n",
      "Epoch 57/150\n",
      " - 224s - loss: 0.0774 - concatenate_1_loss: -6.8183e-02 - concatenate_2_loss: 0.1077 - val_loss: 0.0886 - val_concatenate_1_loss: -6.1008e-02 - val_concatenate_2_loss: 0.1117\n",
      "\n",
      "Epoch 00057: val_loss did not improve from 0.08757\n",
      "Epoch 58/150\n",
      " - 219s - loss: 0.0761 - concatenate_1_loss: -6.9045e-02 - concatenate_2_loss: 0.1072 - val_loss: 0.0830 - val_concatenate_1_loss: -6.5566e-02 - val_concatenate_2_loss: 0.1107\n",
      "\n",
      "Epoch 00058: val_loss improved from 0.08757 to 0.08303, saving model to Trained/pos2.h5\n",
      "Epoch 59/150\n",
      " - 217s - loss: 0.0751 - concatenate_1_loss: -6.9432e-02 - concatenate_2_loss: 0.1067 - val_loss: 0.0852 - val_concatenate_1_loss: -6.0458e-02 - val_concatenate_2_loss: 0.1078\n",
      "\n",
      "Epoch 00059: val_loss did not improve from 0.08303\n",
      "Epoch 60/150\n",
      " - 217s - loss: 0.0741 - concatenate_1_loss: -7.0259e-02 - concatenate_2_loss: 0.1064 - val_loss: 0.0905 - val_concatenate_1_loss: -6.2417e-02 - val_concatenate_2_loss: 0.1150\n",
      "\n",
      "Epoch 00060: val_loss did not improve from 0.08303\n",
      "Epoch 61/150\n",
      " - 215s - loss: 0.0736 - concatenate_1_loss: -7.0520e-02 - concatenate_2_loss: 0.1062 - val_loss: 0.0722 - val_concatenate_1_loss: -7.4693e-02 - val_concatenate_2_loss: 0.1090\n",
      "\n",
      "Epoch 00061: val_loss improved from 0.08303 to 0.07216, saving model to Trained/pos2.h5\n",
      "Epoch 62/150\n",
      " - 216s - loss: 0.0724 - concatenate_1_loss: -7.1008e-02 - concatenate_2_loss: 0.1054 - val_loss: 0.0844 - val_concatenate_1_loss: -5.8332e-02 - val_concatenate_2_loss: 0.1048\n",
      "\n",
      "Epoch 00062: val_loss did not improve from 0.07216\n",
      "Epoch 63/150\n",
      " - 217s - loss: 0.0713 - concatenate_1_loss: -7.1599e-02 - concatenate_2_loss: 0.1049 - val_loss: 0.0788 - val_concatenate_1_loss: -6.8277e-02 - val_concatenate_2_loss: 0.1091\n",
      "\n",
      "Epoch 00063: val_loss did not improve from 0.07216\n",
      "Epoch 64/150\n",
      " - 214s - loss: 0.0706 - concatenate_1_loss: -7.2141e-02 - concatenate_2_loss: 0.1048 - val_loss: 0.0813 - val_concatenate_1_loss: -6.6649e-02 - val_concatenate_2_loss: 0.1101\n",
      "\n",
      "Epoch 00064: val_loss did not improve from 0.07216\n",
      "Epoch 65/150\n",
      " - 213s - loss: 0.0703 - concatenate_1_loss: -7.2239e-02 - concatenate_2_loss: 0.1046 - val_loss: 0.0737 - val_concatenate_1_loss: -6.7771e-02 - val_concatenate_2_loss: 0.1036\n",
      "\n",
      "Epoch 00065: val_loss did not improve from 0.07216\n",
      "Epoch 66/150\n",
      " - 215s - loss: 0.0687 - concatenate_1_loss: -7.2768e-02 - concatenate_2_loss: 0.1036 - val_loss: 0.0853 - val_concatenate_1_loss: -6.2635e-02 - val_concatenate_2_loss: 0.1100\n",
      "\n",
      "Epoch 00066: val_loss did not improve from 0.07216\n",
      "Epoch 67/150\n",
      " - 215s - loss: 0.0682 - concatenate_1_loss: -7.3075e-02 - concatenate_2_loss: 0.1034 - val_loss: 0.0742 - val_concatenate_1_loss: -7.3262e-02 - val_concatenate_2_loss: 0.1095\n",
      "\n",
      "Epoch 00067: val_loss did not improve from 0.07216\n",
      "Epoch 68/150\n",
      " - 213s - loss: 0.0671 - concatenate_1_loss: -7.3703e-02 - concatenate_2_loss: 0.1029 - val_loss: 0.0755 - val_concatenate_1_loss: -6.8355e-02 - val_concatenate_2_loss: 0.1059\n",
      "\n",
      "Epoch 00068: val_loss did not improve from 0.07216\n",
      "Epoch 69/150\n",
      " - 212s - loss: 0.0664 - concatenate_1_loss: -7.4221e-02 - concatenate_2_loss: 0.1027 - val_loss: 0.0727 - val_concatenate_1_loss: -6.9383e-02 - val_concatenate_2_loss: 0.1042\n",
      "\n",
      "Epoch 00069: val_loss did not improve from 0.07216\n",
      "Epoch 70/150\n",
      " - 211s - loss: 0.0659 - concatenate_1_loss: -7.4421e-02 - concatenate_2_loss: 0.1024 - val_loss: 0.0790 - val_concatenate_1_loss: -6.4945e-02 - val_concatenate_2_loss: 0.1061\n",
      "\n",
      "Epoch 00070: val_loss did not improve from 0.07216\n",
      "Epoch 71/150\n",
      " - 213s - loss: 0.0651 - concatenate_1_loss: -7.5037e-02 - concatenate_2_loss: 0.1023 - val_loss: 0.0749 - val_concatenate_1_loss: -6.9189e-02 - val_concatenate_2_loss: 0.1062\n",
      "\n",
      "Epoch 00071: val_loss did not improve from 0.07216\n",
      "Epoch 72/150\n",
      " - 213s - loss: 0.0643 - concatenate_1_loss: -7.5303e-02 - concatenate_2_loss: 0.1018 - val_loss: 0.0798 - val_concatenate_1_loss: -5.9695e-02 - val_concatenate_2_loss: 0.1016\n",
      "\n",
      "Epoch 00072: val_loss did not improve from 0.07216\n",
      "Epoch 73/150\n",
      " - 214s - loss: 0.0637 - concatenate_1_loss: -7.5531e-02 - concatenate_2_loss: 0.1014 - val_loss: 0.0650 - val_concatenate_1_loss: -7.5951e-02 - val_concatenate_2_loss: 0.1031\n",
      "\n",
      "Epoch 00073: val_loss improved from 0.07216 to 0.06499, saving model to Trained/pos2.h5\n",
      "Epoch 74/150\n",
      " - 212s - loss: 0.0632 - concatenate_1_loss: -7.5867e-02 - concatenate_2_loss: 0.1013 - val_loss: 0.0870 - val_concatenate_1_loss: -6.7278e-02 - val_concatenate_2_loss: 0.1165\n",
      "\n",
      "Epoch 00074: val_loss did not improve from 0.06499\n",
      "Epoch 75/150\n",
      " - 213s - loss: 0.0623 - concatenate_1_loss: -7.6387e-02 - concatenate_2_loss: 0.1010 - val_loss: 0.0623 - val_concatenate_1_loss: -7.4832e-02 - val_concatenate_2_loss: 0.0994\n",
      "\n",
      "Epoch 00075: val_loss improved from 0.06499 to 0.06233, saving model to Trained/pos2.h5\n",
      "Epoch 76/150\n",
      " - 213s - loss: 0.0618 - concatenate_1_loss: -7.6447e-02 - concatenate_2_loss: 0.1005 - val_loss: 0.0710 - val_concatenate_1_loss: -7.4108e-02 - val_concatenate_2_loss: 0.1074\n",
      "\n",
      "Epoch 00076: val_loss did not improve from 0.06233\n",
      "Epoch 77/150\n",
      " - 212s - loss: 0.0616 - concatenate_1_loss: -7.6749e-02 - concatenate_2_loss: 0.1007 - val_loss: 0.0714 - val_concatenate_1_loss: -7.2425e-02 - val_concatenate_2_loss: 0.1061\n",
      "\n",
      "Epoch 00077: val_loss did not improve from 0.06233\n",
      "Epoch 78/150\n",
      " - 214s - loss: 0.0606 - concatenate_1_loss: -7.7245e-02 - concatenate_2_loss: 0.1002 - val_loss: 0.0623 - val_concatenate_1_loss: -7.3630e-02 - val_concatenate_2_loss: 0.0983\n",
      "\n",
      "Epoch 00078: val_loss improved from 0.06233 to 0.06232, saving model to Trained/pos2.h5\n",
      "Epoch 79/150\n",
      " - 214s - loss: 0.0601 - concatenate_1_loss: -7.7351e-02 - concatenate_2_loss: 0.0998 - val_loss: 0.0593 - val_concatenate_1_loss: -7.4836e-02 - val_concatenate_2_loss: 0.0966\n"
     ]
    },
    {
     "name": "stdout",
     "output_type": "stream",
     "text": [
      "\n",
      "Epoch 00079: val_loss improved from 0.06232 to 0.05934, saving model to Trained/pos2.h5\n",
      "Epoch 80/150\n",
      " - 217s - loss: 0.0596 - concatenate_1_loss: -7.7897e-02 - concatenate_2_loss: 0.0999 - val_loss: 0.0688 - val_concatenate_1_loss: -7.3089e-02 - val_concatenate_2_loss: 0.1043\n",
      "\n",
      "Epoch 00080: val_loss did not improve from 0.05934\n",
      "Epoch 81/150\n",
      " - 217s - loss: 0.0589 - concatenate_1_loss: -7.8094e-02 - concatenate_2_loss: 0.0994 - val_loss: 0.0652 - val_concatenate_1_loss: -7.5293e-02 - val_concatenate_2_loss: 0.1029\n",
      "\n",
      "Epoch 00081: val_loss did not improve from 0.05934\n",
      "Epoch 82/150\n",
      " - 213s - loss: 0.0585 - concatenate_1_loss: -7.8024e-02 - concatenate_2_loss: 0.0990 - val_loss: 0.0665 - val_concatenate_1_loss: -6.6889e-02 - val_concatenate_2_loss: 0.0958\n",
      "\n",
      "Epoch 00082: val_loss did not improve from 0.05934\n",
      "Epoch 83/150\n",
      " - 210s - loss: 0.0584 - concatenate_1_loss: -7.8153e-02 - concatenate_2_loss: 0.0990 - val_loss: 0.0677 - val_concatenate_1_loss: -7.4465e-02 - val_concatenate_2_loss: 0.1046\n",
      "\n",
      "Epoch 00083: val_loss did not improve from 0.05934\n",
      "Epoch 84/150\n",
      " - 213s - loss: 0.0574 - concatenate_1_loss: -7.8688e-02 - concatenate_2_loss: 0.0986 - val_loss: 0.0555 - val_concatenate_1_loss: -7.7534e-02 - val_concatenate_2_loss: 0.0955\n",
      "\n",
      "Epoch 00084: val_loss improved from 0.05934 to 0.05547, saving model to Trained/pos2.h5\n",
      "Epoch 85/150\n",
      " - 213s - loss: 0.0569 - concatenate_1_loss: -7.9103e-02 - concatenate_2_loss: 0.0984 - val_loss: 0.0585 - val_concatenate_1_loss: -7.7675e-02 - val_concatenate_2_loss: 0.0987\n",
      "\n",
      "Epoch 00085: val_loss did not improve from 0.05547\n",
      "Epoch 86/150\n",
      " - 212s - loss: 0.0562 - concatenate_1_loss: -7.9397e-02 - concatenate_2_loss: 0.0981 - val_loss: 0.0666 - val_concatenate_1_loss: -7.2607e-02 - val_concatenate_2_loss: 0.1017\n",
      "\n",
      "Epoch 00086: val_loss did not improve from 0.05547\n",
      "Epoch 87/150\n",
      " - 212s - loss: 0.0559 - concatenate_1_loss: -7.9311e-02 - concatenate_2_loss: 0.0978 - val_loss: 0.0646 - val_concatenate_1_loss: -7.3031e-02 - val_concatenate_2_loss: 0.1001\n",
      "\n",
      "Epoch 00087: val_loss did not improve from 0.05547\n",
      "Epoch 88/150\n",
      " - 213s - loss: 0.0557 - concatenate_1_loss: -7.9526e-02 - concatenate_2_loss: 0.0977 - val_loss: 0.0521 - val_concatenate_1_loss: -8.2196e-02 - val_concatenate_2_loss: 0.0968\n",
      "\n",
      "Epoch 00088: val_loss improved from 0.05547 to 0.05208, saving model to Trained/pos2.h5\n",
      "Epoch 89/150\n",
      " - 212s - loss: 0.0547 - concatenate_1_loss: -7.9866e-02 - concatenate_2_loss: 0.0971 - val_loss: 0.0595 - val_concatenate_1_loss: -7.6956e-02 - val_concatenate_2_loss: 0.0990\n",
      "\n",
      "Epoch 00089: val_loss did not improve from 0.05208\n",
      "Epoch 90/150\n",
      " - 212s - loss: 0.0543 - concatenate_1_loss: -8.0168e-02 - concatenate_2_loss: 0.0970 - val_loss: 0.0656 - val_concatenate_1_loss: -7.7767e-02 - val_concatenate_2_loss: 0.1059\n",
      "\n",
      "Epoch 00090: val_loss did not improve from 0.05208\n",
      "Epoch 91/150\n",
      " - 212s - loss: 0.0537 - concatenate_1_loss: -8.0220e-02 - concatenate_2_loss: 0.0965 - val_loss: 0.0736 - val_concatenate_1_loss: -6.9604e-02 - val_concatenate_2_loss: 0.1058\n",
      "\n",
      "Epoch 00091: val_loss did not improve from 0.05208\n",
      "Epoch 92/150\n",
      " - 212s - loss: 0.0531 - concatenate_1_loss: -8.0773e-02 - concatenate_2_loss: 0.0965 - val_loss: 0.0615 - val_concatenate_1_loss: -6.9596e-02 - val_concatenate_2_loss: 0.0937\n",
      "\n",
      "Epoch 00092: val_loss did not improve from 0.05208\n",
      "Epoch 93/150\n",
      " - 214s - loss: 0.0528 - concatenate_1_loss: -8.0739e-02 - concatenate_2_loss: 0.0961 - val_loss: 0.0597 - val_concatenate_1_loss: -7.6347e-02 - val_concatenate_2_loss: 0.0986\n",
      "\n",
      "Epoch 00093: val_loss did not improve from 0.05208\n",
      "Epoch 94/150\n",
      " - 212s - loss: 0.0522 - concatenate_1_loss: -8.1107e-02 - concatenate_2_loss: 0.0959 - val_loss: 0.0575 - val_concatenate_1_loss: -8.2226e-02 - val_concatenate_2_loss: 0.1024\n",
      "\n",
      "Epoch 00094: val_loss did not improve from 0.05208\n",
      "Epoch 95/150\n",
      " - 213s - loss: 0.0520 - concatenate_1_loss: -8.1045e-02 - concatenate_2_loss: 0.0957 - val_loss: 0.0678 - val_concatenate_1_loss: -7.6409e-02 - val_concatenate_2_loss: 0.1068\n",
      "\n",
      "Epoch 00095: val_loss did not improve from 0.05208\n",
      "Epoch 96/150\n",
      " - 213s - loss: 0.0513 - concatenate_1_loss: -8.1488e-02 - concatenate_2_loss: 0.0954 - val_loss: 0.0606 - val_concatenate_1_loss: -8.0746e-02 - val_concatenate_2_loss: 0.1039\n",
      "\n",
      "Epoch 00096: val_loss did not improve from 0.05208\n",
      "Epoch 97/150\n",
      " - 209s - loss: 0.0509 - concatenate_1_loss: -8.1680e-02 - concatenate_2_loss: 0.0952 - val_loss: 0.0505 - val_concatenate_1_loss: -8.2274e-02 - val_concatenate_2_loss: 0.0954\n",
      "\n",
      "Epoch 00097: val_loss improved from 0.05208 to 0.05054, saving model to Trained/pos2.h5\n",
      "Epoch 98/150\n",
      " - 210s - loss: 0.0504 - concatenate_1_loss: -8.1871e-02 - concatenate_2_loss: 0.0949 - val_loss: 0.0603 - val_concatenate_1_loss: -7.6937e-02 - val_concatenate_2_loss: 0.0999\n",
      "\n",
      "Epoch 00098: val_loss did not improve from 0.05054\n",
      "Epoch 99/150\n",
      " - 212s - loss: 0.0500 - concatenate_1_loss: -8.2172e-02 - concatenate_2_loss: 0.0948 - val_loss: 0.0552 - val_concatenate_1_loss: -8.0009e-02 - val_concatenate_2_loss: 0.0979\n",
      "\n",
      "Epoch 00099: val_loss did not improve from 0.05054\n",
      "Epoch 100/150\n",
      " - 212s - loss: 0.0495 - concatenate_1_loss: -8.2340e-02 - concatenate_2_loss: 0.0944 - val_loss: 0.0584 - val_concatenate_1_loss: -7.6642e-02 - val_concatenate_2_loss: 0.0976\n",
      "\n",
      "Epoch 00100: val_loss did not improve from 0.05054\n",
      "Epoch 101/150\n",
      " - 213s - loss: 0.0491 - concatenate_1_loss: -8.2716e-02 - concatenate_2_loss: 0.0943 - val_loss: 0.0651 - val_concatenate_1_loss: -7.5413e-02 - val_concatenate_2_loss: 0.1031\n",
      "\n",
      "Epoch 00101: val_loss did not improve from 0.05054\n",
      "Epoch 102/150\n",
      " - 212s - loss: 0.0487 - concatenate_1_loss: -8.2601e-02 - concatenate_2_loss: 0.0939 - val_loss: 0.0519 - val_concatenate_1_loss: -7.7378e-02 - val_concatenate_2_loss: 0.0918\n",
      "\n",
      "Epoch 00102: val_loss did not improve from 0.05054\n",
      "Epoch 103/150\n",
      " - 217s - loss: 0.0482 - concatenate_1_loss: -8.2904e-02 - concatenate_2_loss: 0.0936 - val_loss: 0.0596 - val_concatenate_1_loss: -7.4808e-02 - val_concatenate_2_loss: 0.0971\n",
      "\n",
      "Epoch 00103: val_loss did not improve from 0.05054\n",
      "Epoch 104/150\n",
      " - 214s - loss: 0.0481 - concatenate_1_loss: -8.2998e-02 - concatenate_2_loss: 0.0937 - val_loss: 0.0474 - val_concatenate_1_loss: -8.2825e-02 - val_concatenate_2_loss: 0.0929\n",
      "\n",
      "Epoch 00104: val_loss improved from 0.05054 to 0.04741, saving model to Trained/pos2.h5\n",
      "Epoch 105/150\n",
      " - 213s - loss: 0.0474 - concatenate_1_loss: -8.3439e-02 - concatenate_2_loss: 0.0934 - val_loss: 0.0677 - val_concatenate_1_loss: -7.2852e-02 - val_concatenate_2_loss: 0.1031\n",
      "\n",
      "Epoch 00105: val_loss did not improve from 0.04741\n",
      "Epoch 106/150\n",
      " - 212s - loss: 0.0468 - concatenate_1_loss: -8.3706e-02 - concatenate_2_loss: 0.0931 - val_loss: 0.0527 - val_concatenate_1_loss: -7.9705e-02 - val_concatenate_2_loss: 0.0950\n",
      "\n",
      "Epoch 00106: val_loss did not improve from 0.04741\n",
      "Epoch 107/150\n",
      " - 213s - loss: 0.0466 - concatenate_1_loss: -8.3791e-02 - concatenate_2_loss: 0.0930 - val_loss: 0.0653 - val_concatenate_1_loss: -7.8312e-02 - val_concatenate_2_loss: 0.1062\n",
      "\n",
      "Epoch 00107: val_loss did not improve from 0.04741\n",
      "Epoch 108/150\n",
      " - 212s - loss: 0.0462 - concatenate_1_loss: -8.4084e-02 - concatenate_2_loss: 0.0929 - val_loss: 0.0690 - val_concatenate_1_loss: -7.4365e-02 - val_concatenate_2_loss: 0.1059\n",
      "\n",
      "Epoch 00108: val_loss did not improve from 0.04741\n",
      "Epoch 109/150\n",
      " - 212s - loss: 0.0458 - concatenate_1_loss: -8.4205e-02 - concatenate_2_loss: 0.0926 - val_loss: 0.0530 - val_concatenate_1_loss: -7.6481e-02 - val_concatenate_2_loss: 0.0921\n",
      "\n",
      "Epoch 00109: val_loss did not improve from 0.04741\n",
      "Epoch 110/150\n",
      " - 210s - loss: 0.0453 - concatenate_1_loss: -8.4652e-02 - concatenate_2_loss: 0.0926 - val_loss: 0.0586 - val_concatenate_1_loss: -7.7742e-02 - val_concatenate_2_loss: 0.0990\n",
      "\n",
      "Epoch 00110: val_loss did not improve from 0.04741\n",
      "Epoch 111/150\n",
      " - 210s - loss: 0.0447 - concatenate_1_loss: -8.4665e-02 - concatenate_2_loss: 0.0920 - val_loss: 0.0593 - val_concatenate_1_loss: -7.8815e-02 - val_concatenate_2_loss: 0.1007\n",
      "\n",
      "Epoch 00111: val_loss did not improve from 0.04741\n",
      "Epoch 112/150\n",
      " - 210s - loss: 0.0442 - concatenate_1_loss: -8.4854e-02 - concatenate_2_loss: 0.0917 - val_loss: 0.0599 - val_concatenate_1_loss: -7.5386e-02 - val_concatenate_2_loss: 0.0980\n",
      "\n",
      "Epoch 00112: val_loss did not improve from 0.04741\n",
      "Epoch 113/150\n"
     ]
    },
    {
     "name": "stdout",
     "output_type": "stream",
     "text": [
      " - 211s - loss: 0.0444 - concatenate_1_loss: -8.4803e-02 - concatenate_2_loss: 0.0918 - val_loss: 0.0541 - val_concatenate_1_loss: -8.1467e-02 - val_concatenate_2_loss: 0.0982\n",
      "\n",
      "Epoch 00113: val_loss did not improve from 0.04741\n",
      "Epoch 114/150\n",
      " - 213s - loss: 0.0440 - concatenate_1_loss: -8.5104e-02 - concatenate_2_loss: 0.0917 - val_loss: 0.0595 - val_concatenate_1_loss: -7.1776e-02 - val_concatenate_2_loss: 0.0939\n",
      "\n",
      "Epoch 00114: val_loss did not improve from 0.04741\n",
      "Epoch 115/150\n",
      " - 212s - loss: 0.0433 - concatenate_1_loss: -8.5396e-02 - concatenate_2_loss: 0.0912 - val_loss: 0.0484 - val_concatenate_1_loss: -8.1842e-02 - val_concatenate_2_loss: 0.0928\n",
      "\n",
      "Epoch 00115: val_loss did not improve from 0.04741\n",
      "Epoch 116/150\n",
      " - 212s - loss: 0.0430 - concatenate_1_loss: -8.5465e-02 - concatenate_2_loss: 0.0911 - val_loss: 0.0447 - val_concatenate_1_loss: -8.2552e-02 - val_concatenate_2_loss: 0.0899\n",
      "\n",
      "Epoch 00116: val_loss improved from 0.04741 to 0.04469, saving model to Trained/pos2.h5\n",
      "Epoch 117/150\n",
      " - 214s - loss: 0.0422 - concatenate_1_loss: -8.5842e-02 - concatenate_2_loss: 0.0907 - val_loss: 0.0452 - val_concatenate_1_loss: -8.2129e-02 - val_concatenate_2_loss: 0.0900\n",
      "\n",
      "Epoch 00117: val_loss did not improve from 0.04469\n",
      "Epoch 118/150\n",
      " - 214s - loss: 0.0422 - concatenate_1_loss: -8.6013e-02 - concatenate_2_loss: 0.0908 - val_loss: 0.0530 - val_concatenate_1_loss: -8.1720e-02 - val_concatenate_2_loss: 0.0974\n",
      "\n",
      "Epoch 00118: val_loss did not improve from 0.04469\n",
      "Epoch 119/150\n",
      " - 212s - loss: 0.0422 - concatenate_1_loss: -8.6009e-02 - concatenate_2_loss: 0.0908 - val_loss: 0.0518 - val_concatenate_1_loss: -7.9422e-02 - val_concatenate_2_loss: 0.0938\n",
      "\n",
      "Epoch 00119: val_loss did not improve from 0.04469\n",
      "Epoch 120/150\n",
      " - 213s - loss: 0.0418 - concatenate_1_loss: -8.6226e-02 - concatenate_2_loss: 0.0907 - val_loss: 0.0585 - val_concatenate_1_loss: -8.0277e-02 - val_concatenate_2_loss: 0.1015\n",
      "\n",
      "Epoch 00120: val_loss did not improve from 0.04469\n",
      "Epoch 121/150\n",
      " - 214s - loss: 0.0411 - concatenate_1_loss: -8.6482e-02 - concatenate_2_loss: 0.0903 - val_loss: 0.0560 - val_concatenate_1_loss: -7.8971e-02 - val_concatenate_2_loss: 0.0977\n",
      "\n",
      "Epoch 00121: val_loss did not improve from 0.04469\n",
      "Epoch 122/150\n",
      " - 216s - loss: 0.0409 - concatenate_1_loss: -8.6544e-02 - concatenate_2_loss: 0.0902 - val_loss: 0.0535 - val_concatenate_1_loss: -8.3419e-02 - val_concatenate_2_loss: 0.0997\n",
      "\n",
      "Epoch 00122: val_loss did not improve from 0.04469\n",
      "Epoch 123/150\n",
      " - 216s - loss: 0.0404 - concatenate_1_loss: -8.6872e-02 - concatenate_2_loss: 0.0900 - val_loss: 0.0485 - val_concatenate_1_loss: -7.9737e-02 - val_concatenate_2_loss: 0.0910\n",
      "\n",
      "Epoch 00123: val_loss did not improve from 0.04469\n",
      "Epoch 124/150\n",
      " - 216s - loss: 0.0401 - concatenate_1_loss: -8.7097e-02 - concatenate_2_loss: 0.0899 - val_loss: 0.0613 - val_concatenate_1_loss: -7.6130e-02 - val_concatenate_2_loss: 0.1002\n",
      "\n",
      "Epoch 00124: val_loss did not improve from 0.04469\n",
      "Epoch 125/150\n",
      " - 215s - loss: 0.0401 - concatenate_1_loss: -8.7038e-02 - concatenate_2_loss: 0.0899 - val_loss: 0.0428 - val_concatenate_1_loss: -8.7787e-02 - val_concatenate_2_loss: 0.0933\n",
      "\n",
      "Epoch 00125: val_loss improved from 0.04469 to 0.04277, saving model to Trained/pos2.h5\n",
      "Epoch 126/150\n",
      " - 219s - loss: 0.0394 - concatenate_1_loss: -8.7219e-02 - concatenate_2_loss: 0.0894 - val_loss: 0.0470 - val_concatenate_1_loss: -8.3164e-02 - val_concatenate_2_loss: 0.0929\n",
      "\n",
      "Epoch 00126: val_loss did not improve from 0.04277\n",
      "Epoch 127/150\n",
      " - 220s - loss: 0.0387 - concatenate_1_loss: -8.7677e-02 - concatenate_2_loss: 0.0892 - val_loss: 0.0454 - val_concatenate_1_loss: -8.4887e-02 - val_concatenate_2_loss: 0.0931\n",
      "\n",
      "Epoch 00127: val_loss did not improve from 0.04277\n",
      "Epoch 128/150\n",
      " - 219s - loss: 0.0386 - concatenate_1_loss: -8.7708e-02 - concatenate_2_loss: 0.0891 - val_loss: 0.0431 - val_concatenate_1_loss: -8.3940e-02 - val_concatenate_2_loss: 0.0898\n",
      "\n",
      "Epoch 00128: val_loss did not improve from 0.04277\n",
      "Epoch 129/150\n",
      " - 212s - loss: 0.0381 - concatenate_1_loss: -8.7964e-02 - concatenate_2_loss: 0.0890 - val_loss: 0.0437 - val_concatenate_1_loss: -8.8028e-02 - val_concatenate_2_loss: 0.0945\n",
      "\n",
      "Epoch 00129: val_loss did not improve from 0.04277\n",
      "Epoch 130/150\n",
      " - 211s - loss: 0.0374 - concatenate_1_loss: -8.8426e-02 - concatenate_2_loss: 0.0887 - val_loss: 0.0448 - val_concatenate_1_loss: -7.9618e-02 - val_concatenate_2_loss: 0.0874\n",
      "\n",
      "Epoch 00130: val_loss did not improve from 0.04277\n",
      "Epoch 131/150\n",
      " - 211s - loss: 0.0373 - concatenate_1_loss: -8.8411e-02 - concatenate_2_loss: 0.0886 - val_loss: 0.0501 - val_concatenate_1_loss: -7.8649e-02 - val_concatenate_2_loss: 0.0917\n",
      "\n",
      "Epoch 00131: val_loss did not improve from 0.04277\n",
      "Epoch 132/150\n",
      " - 212s - loss: 0.0375 - concatenate_1_loss: -8.8232e-02 - concatenate_2_loss: 0.0887 - val_loss: 0.0482 - val_concatenate_1_loss: -8.1843e-02 - val_concatenate_2_loss: 0.0930\n",
      "\n",
      "Epoch 00132: val_loss did not improve from 0.04277\n",
      "Epoch 133/150\n",
      " - 221s - loss: 0.0364 - concatenate_1_loss: -8.8775e-02 - concatenate_2_loss: 0.0881 - val_loss: 0.0329 - val_concatenate_1_loss: -8.6786e-02 - val_concatenate_2_loss: 0.0826\n",
      "\n",
      "Epoch 00133: val_loss improved from 0.04277 to 0.03292, saving model to Trained/pos2.h5\n",
      "Epoch 134/150\n",
      " - 221s - loss: 0.0361 - concatenate_1_loss: -8.8888e-02 - concatenate_2_loss: 0.0879 - val_loss: 0.0497 - val_concatenate_1_loss: -8.3414e-02 - val_concatenate_2_loss: 0.0962\n",
      "\n",
      "Epoch 00134: val_loss did not improve from 0.03292\n",
      "Epoch 135/150\n",
      " - 221s - loss: 0.0359 - concatenate_1_loss: -8.8812e-02 - concatenate_2_loss: 0.0877 - val_loss: 0.0524 - val_concatenate_1_loss: -8.2591e-02 - val_concatenate_2_loss: 0.0980\n",
      "\n",
      "Epoch 00135: val_loss did not improve from 0.03292\n",
      "Epoch 136/150\n",
      " - 222s - loss: 0.0355 - concatenate_1_loss: -8.9317e-02 - concatenate_2_loss: 0.0879 - val_loss: 0.0408 - val_concatenate_1_loss: -8.3294e-02 - val_concatenate_2_loss: 0.0871\n",
      "\n",
      "Epoch 00136: val_loss did not improve from 0.03292\n",
      "Epoch 137/150\n",
      " - 223s - loss: 0.0353 - concatenate_1_loss: -8.9380e-02 - concatenate_2_loss: 0.0877 - val_loss: 0.0401 - val_concatenate_1_loss: -8.7391e-02 - val_concatenate_2_loss: 0.0905\n",
      "\n",
      "Epoch 00137: val_loss did not improve from 0.03292\n",
      "Epoch 138/150\n",
      " - 211s - loss: 0.0354 - concatenate_1_loss: -8.9283e-02 - concatenate_2_loss: 0.0877 - val_loss: 0.0455 - val_concatenate_1_loss: -7.9021e-02 - val_concatenate_2_loss: 0.0876\n",
      "\n",
      "Epoch 00138: val_loss did not improve from 0.03292\n",
      "Epoch 139/150\n",
      " - 210s - loss: 0.0346 - concatenate_1_loss: -8.9517e-02 - concatenate_2_loss: 0.0872 - val_loss: 0.0434 - val_concatenate_1_loss: -8.5669e-02 - val_concatenate_2_loss: 0.0921\n",
      "\n",
      "Epoch 00139: val_loss did not improve from 0.03292\n",
      "Epoch 140/150\n",
      " - 211s - loss: 0.0348 - concatenate_1_loss: -8.9454e-02 - concatenate_2_loss: 0.0873 - val_loss: 0.0415 - val_concatenate_1_loss: -8.5325e-02 - val_concatenate_2_loss: 0.0899\n",
      "\n",
      "Epoch 00140: val_loss did not improve from 0.03292\n",
      "Epoch 141/150\n",
      " - 211s - loss: 0.0339 - concatenate_1_loss: -8.9999e-02 - concatenate_2_loss: 0.0871 - val_loss: 0.0398 - val_concatenate_1_loss: -8.5631e-02 - val_concatenate_2_loss: 0.0886\n",
      "\n",
      "Epoch 00141: val_loss did not improve from 0.03292\n",
      "Epoch 142/150\n",
      " - 210s - loss: 0.0342 - concatenate_1_loss: -8.9805e-02 - concatenate_2_loss: 0.0871 - val_loss: 0.0463 - val_concatenate_1_loss: -8.2013e-02 - val_concatenate_2_loss: 0.0915\n",
      "\n",
      "Epoch 00142: val_loss did not improve from 0.03292\n",
      "Epoch 143/150\n",
      " - 220s - loss: 0.0334 - concatenate_1_loss: -9.0016e-02 - concatenate_2_loss: 0.0866 - val_loss: 0.0447 - val_concatenate_1_loss: -8.1767e-02 - val_concatenate_2_loss: 0.0896\n",
      "\n",
      "Epoch 00143: val_loss did not improve from 0.03292\n",
      "Epoch 144/150\n",
      " - 225s - loss: 0.0333 - concatenate_1_loss: -9.0111e-02 - concatenate_2_loss: 0.0866 - val_loss: 0.0488 - val_concatenate_1_loss: -8.0681e-02 - val_concatenate_2_loss: 0.0926\n",
      "\n",
      "Epoch 00144: val_loss did not improve from 0.03292\n",
      "Epoch 145/150\n",
      " - 221s - loss: 0.0329 - concatenate_1_loss: -9.0279e-02 - concatenate_2_loss: 0.0863 - val_loss: 0.0386 - val_concatenate_1_loss: -8.3153e-02 - val_concatenate_2_loss: 0.0850\n",
      "\n",
      "Epoch 00145: val_loss did not improve from 0.03292\n",
      "Epoch 146/150\n",
      " - 228s - loss: 0.0321 - concatenate_1_loss: -9.0696e-02 - concatenate_2_loss: 0.0860 - val_loss: 0.0495 - val_concatenate_1_loss: -8.2671e-02 - val_concatenate_2_loss: 0.0954\n"
     ]
    },
    {
     "name": "stdout",
     "output_type": "stream",
     "text": [
      "\n",
      "Epoch 00146: val_loss did not improve from 0.03292\n",
      "Epoch 147/150\n",
      " - 228s - loss: 0.0322 - concatenate_1_loss: -9.0556e-02 - concatenate_2_loss: 0.0860 - val_loss: 0.0353 - val_concatenate_1_loss: -8.9299e-02 - val_concatenate_2_loss: 0.0878\n",
      "\n",
      "Epoch 00147: val_loss did not improve from 0.03292\n",
      "Epoch 148/150\n",
      " - 223s - loss: 0.0316 - concatenate_1_loss: -9.1005e-02 - concatenate_2_loss: 0.0858 - val_loss: 0.0389 - val_concatenate_1_loss: -8.7152e-02 - val_concatenate_2_loss: 0.0893\n",
      "\n",
      "Epoch 00148: val_loss did not improve from 0.03292\n",
      "Epoch 149/150\n",
      " - 219s - loss: 0.0317 - concatenate_1_loss: -9.1047e-02 - concatenate_2_loss: 0.0860 - val_loss: 0.0454 - val_concatenate_1_loss: -8.3800e-02 - val_concatenate_2_loss: 0.0924\n",
      "\n",
      "Epoch 00149: val_loss did not improve from 0.03292\n",
      "Epoch 150/150\n",
      " - 210s - loss: 0.0310 - concatenate_1_loss: -9.1353e-02 - concatenate_2_loss: 0.0857 - val_loss: 0.0290 - val_concatenate_1_loss: -9.2369e-02 - val_concatenate_2_loss: 0.0847\n",
      "\n",
      "Epoch 00150: val_loss improved from 0.03292 to 0.02901, saving model to Trained/pos2.h5\n"
     ]
    }
   ],
   "source": [
    "model_2, history_2 = train_nn(\n",
    "                        options.training_input,\n",
    "                        options.training_output,\n",
    "                        options.validation_fraction,\n",
    "                        options.outFile,\n",
    "                        options.network_type,\n",
    "                        options.config,\n",
    "                        options.structure,\n",
    "                        options.learning_rate,\n",
    "                        options.regularizer,\n",
    "                        options.epochs,\n",
    "                        #args.momentum,\n",
    "                        #args.batch,\n",
    "                        ##args.min_epochs,\n",
    "                        #args.max_epochs,\n",
    "                        ##args.patience_increase,\n",
    "                        ##args.threshold,\n",
    "                        #args.min_delta,\n",
    "                        #args.patience,\n",
    "                        #args.profile,\n",
    "                        #args.nbworkers,\n",
    "                        #args.save_all,\n",
    "                        )"
   ]
  },
  {
   "cell_type": "markdown",
   "metadata": {},
   "source": [
    "Saving the model"
   ]
  },
  {
   "cell_type": "code",
   "execution_count": null,
   "metadata": {},
   "outputs": [],
   "source": [
    "import datetime"
   ]
  },
  {
   "cell_type": "code",
   "execution_count": null,
   "metadata": {},
   "outputs": [],
   "source": [
    "training_output = 'Trained'\n",
    "outFile = 'pos2'\n",
    "output_location = training_output+'/'+outFile+'_'+datetime.datetime.now().strftime('%m_%d_%H%M')"
   ]
  },
  {
   "cell_type": "code",
   "execution_count": null,
   "metadata": {
    "scrolled": true
   },
   "outputs": [],
   "source": [
    "model_2.save(output_location)"
   ]
  },
  {
   "cell_type": "code",
   "execution_count": null,
   "metadata": {},
   "outputs": [],
   "source": [
    "new_model = tf.keras.models.load_model(output_location, custom_objects={'abs' : tf.keras.backend.abs,\n",
    "                                                                        'loss' : mixture_density_loss(nb_components=1)})"
   ]
  },
  {
   "cell_type": "markdown",
   "metadata": {},
   "source": [
    "Tensorflow 2.x features method model.save() which creates model file that stores both the weights and architecture. Loading the model from this format requires only custom objects like the above activation and loss functions to be provided. That means it includes the config, optimizer, and weights of the model. Older Tensorflow/keras model saving format required saving a weights .h5 file as well as the config and rebuilding the model and its architecture from that, which still requires the custom objects as well."
   ]
  },
  {
   "cell_type": "code",
   "execution_count": null,
   "metadata": {},
   "outputs": [],
   "source": [
    "model.get_config()"
   ]
  },
  {
   "cell_type": "markdown",
   "metadata": {},
   "source": [
    "### Learning Curve Two Particle Training"
   ]
  },
  {
   "cell_type": "code",
   "execution_count": 195,
   "metadata": {},
   "outputs": [],
   "source": [
    "training_loss = np.loadtxt('Trained/pos2_06_04_0556_training_pos2.txt')\n",
    "validation_loss = np.loadtxt('Trained/pos2_06_04_0556_validation_pos2.txt')"
   ]
  },
  {
   "cell_type": "code",
   "execution_count": 198,
   "metadata": {},
   "outputs": [],
   "source": [
    "import matplotlib.pyplot as plt"
   ]
  },
  {
   "cell_type": "code",
   "execution_count": 220,
   "metadata": {},
   "outputs": [],
   "source": [
    "def plot_learning_curve(train_loss, val_loss, fileName, outputDir):\n",
    "    plt.figure(figsize=(7,5))\n",
    "    \n",
    "    plt.plot(train_loss, color='b', linewidth=0.5)\n",
    "    plt.plot(val_loss, color='r', linewidth=0.5)\n",
    "    plt.title('Model Loss over Epochs')\n",
    "    plt.ylabel('Loss')\n",
    "    plt.xlabel('Epoch')\n",
    "    plt.xlim(0,250)\n",
    "    plt.ylim(0, 0.9)\n",
    "    plt.legend(['training set','validation set'])\n",
    "    plt.savefig(outputDir+'/'+fileName+'_Loss.pdf')\n",
    "    plt.show()\n",
    "    plt.close()"
   ]
  },
  {
   "cell_type": "code",
   "execution_count": 221,
   "metadata": {},
   "outputs": [
    {
     "data": {
      "image/png": "[encoded data removed]",
      "text/plain": [
       "<Figure size 504x360 with 1 Axes>"
      ]
     },
     "metadata": {
      "needs_background": "light"
     },
     "output_type": "display_data"
    }
   ],
   "source": [
    "plot_learning_curve(training_loss, validation_loss, 'pos2', 'Trained')"
   ]
  },
  {
   "cell_type": "markdown",
   "metadata": {},
   "source": [
    "# One Particle Training"
   ]
  },
  {
   "cell_type": "code",
   "execution_count": 9,
   "metadata": {},
   "outputs": [],
   "source": [
    "!python genconfig.py --type pos1 > pos1config.json"
   ]
  },
  {
   "cell_type": "code",
   "execution_count": 4,
   "metadata": {},
   "outputs": [
    {
     "name": "stdout",
     "output_type": "stream",
     "text": [
      "loading config from:  pos1config.json\n"
     ]
    },
    {
     "data": {
      "text/plain": [
       "{'inputs': ['NN_matrix0',\n",
       "  'NN_matrix1',\n",
       "  'NN_matrix2',\n",
       "  'NN_matrix3',\n",
       "  'NN_matrix4',\n",
       "  'NN_matrix5',\n",
       "  'NN_matrix6',\n",
       "  'NN_matrix7',\n",
       "  'NN_matrix8',\n",
       "  'NN_matrix9',\n",
       "  'NN_matrix10',\n",
       "  'NN_matrix11',\n",
       "  'NN_matrix12',\n",
       "  'NN_matrix13',\n",
       "  'NN_matrix14',\n",
       "  'NN_matrix15',\n",
       "  'NN_matrix16',\n",
       "  'NN_matrix17',\n",
       "  'NN_matrix18',\n",
       "  'NN_matrix19',\n",
       "  'NN_matrix20',\n",
       "  'NN_matrix21',\n",
       "  'NN_matrix22',\n",
       "  'NN_matrix23',\n",
       "  'NN_matrix24',\n",
       "  'NN_matrix25',\n",
       "  'NN_matrix26',\n",
       "  'NN_matrix27',\n",
       "  'NN_matrix28',\n",
       "  'NN_matrix29',\n",
       "  'NN_matrix30',\n",
       "  'NN_matrix31',\n",
       "  'NN_matrix32',\n",
       "  'NN_matrix33',\n",
       "  'NN_matrix34',\n",
       "  'NN_matrix35',\n",
       "  'NN_matrix36',\n",
       "  'NN_matrix37',\n",
       "  'NN_matrix38',\n",
       "  'NN_matrix39',\n",
       "  'NN_matrix40',\n",
       "  'NN_matrix41',\n",
       "  'NN_matrix42',\n",
       "  'NN_matrix43',\n",
       "  'NN_matrix44',\n",
       "  'NN_matrix45',\n",
       "  'NN_matrix46',\n",
       "  'NN_matrix47',\n",
       "  'NN_matrix48',\n",
       "  'NN_pitches0',\n",
       "  'NN_pitches1',\n",
       "  'NN_pitches2',\n",
       "  'NN_pitches3',\n",
       "  'NN_pitches4',\n",
       "  'NN_pitches5',\n",
       "  'NN_pitches6',\n",
       "  'NN_layer',\n",
       "  'NN_barrelEC',\n",
       "  'NN_phi',\n",
       "  'NN_theta'],\n",
       " 'targets': ['NN_position_id_X_0', 'NN_position_id_Y_0'],\n",
       " 'metadata': ['RunNumber',\n",
       "  'EventNumber',\n",
       "  'ClusterNumber',\n",
       "  'NN_sizeX',\n",
       "  'NN_sizeY',\n",
       "  'NN_localEtaPixelIndexWeightedPosition',\n",
       "  'NN_localPhiPixelIndexWeightedPosition',\n",
       "  'NN_layer',\n",
       "  'NN_barrelEC',\n",
       "  'NN_etaModule',\n",
       "  'NN_phi',\n",
       "  'NN_theta',\n",
       "  'globalX',\n",
       "  'globalY',\n",
       "  'globalZ',\n",
       "  'globalEta',\n",
       "  'NN_pitches0',\n",
       "  'NN_pitches1',\n",
       "  'NN_pitches2',\n",
       "  'NN_pitches3',\n",
       "  'NN_pitches4',\n",
       "  'NN_pitches5',\n",
       "  'NN_pitches6']}"
      ]
     },
     "execution_count": 4,
     "metadata": {},
     "output_type": "execute_result"
    }
   ],
   "source": [
    "options = Option(\n",
    "    training_input='NNinput_pos1_training.h5',\n",
    "    training_output='Trained',\n",
    "    validation_fraction=0.1,\n",
    "    outFile='pos1',\n",
    "    network_type='1particle',\n",
    "    config='pos1config.json',\n",
    "    structure=[100, 80, 50],\n",
    "    learning_rate=0.0001,\n",
    "    regularizer=0.0001,\n",
    "    epochs=1,\n",
    ")\n",
    "\n",
    "print('loading config from: ', options.config)\n",
    "config = open(options.config, 'r')\n",
    "yamlConfig = yaml.load(config, Loader=yaml.FullLoader)\n",
    "yamlConfig"
   ]
  },
  {
   "cell_type": "code",
   "execution_count": 5,
   "metadata": {},
   "outputs": [
    {
     "name": "stdout",
     "output_type": "stream",
     "text": [
      "(['NN_matrix0', 'NN_matrix1', 'NN_matrix2', 'NN_matrix3', 'NN_matrix4', 'NN_matrix5', 'NN_matrix6', 'NN_matrix7', 'NN_matrix8', 'NN_matrix9', 'NN_matrix10', 'NN_matrix11', 'NN_matrix12', 'NN_matrix13', 'NN_matrix14', 'NN_matrix15', 'NN_matrix16', 'NN_matrix17', 'NN_matrix18', 'NN_matrix19', 'NN_matrix20', 'NN_matrix21', 'NN_matrix22', 'NN_matrix23', 'NN_matrix24', 'NN_matrix25', 'NN_matrix26', 'NN_matrix27', 'NN_matrix28', 'NN_matrix29', 'NN_matrix30', 'NN_matrix31', 'NN_matrix32', 'NN_matrix33', 'NN_matrix34', 'NN_matrix35', 'NN_matrix36', 'NN_matrix37', 'NN_matrix38', 'NN_matrix39', 'NN_matrix40', 'NN_matrix41', 'NN_matrix42', 'NN_matrix43', 'NN_matrix44', 'NN_matrix45', 'NN_matrix46', 'NN_matrix47', 'NN_matrix48', 'NN_pitches0', 'NN_pitches1', 'NN_pitches2', 'NN_pitches3', 'NN_pitches4', 'NN_pitches5', 'NN_pitches6', 'NN_layer', 'NN_barrelEC', 'NN_phi', 'NN_theta'], ['NN_position_id_X_0', 'NN_position_id_Y_0'], [])\n",
      "Model: \"model_1\"\n",
      "__________________________________________________________________________________________________\n",
      "Layer (type)                    Output Shape         Param #     Connected to                     \n",
      "==================================================================================================\n",
      "input_1 (InputLayer)            (None, 60)           0                                            \n",
      "__________________________________________________________________________________________________\n",
      "dense_1 (Dense)                 (None, 100)          6100        input_1[0][0]                    \n",
      "__________________________________________________________________________________________________\n",
      "dense_2 (Dense)                 (None, 80)           8080        dense_1[0][0]                    \n",
      "__________________________________________________________________________________________________\n",
      "dense_3 (Dense)                 (None, 50)           4050        dense_2[0][0]                    \n",
      "__________________________________________________________________________________________________\n",
      "dense_4 (Dense)                 (None, 1)            51          dense_3[0][0]                    \n",
      "__________________________________________________________________________________________________\n",
      "dense_5 (Dense)                 (None, 2)            102         dense_3[0][0]                    \n",
      "__________________________________________________________________________________________________\n",
      "dense_6 (Dense)                 (None, 2)            102         dense_3[0][0]                    \n",
      "__________________________________________________________________________________________________\n",
      "concatenate_1 (Concatenate)     (None, 5)            0           dense_4[0][0]                    \n",
      "                                                                 dense_5[0][0]                    \n",
      "                                                                 dense_6[0][0]                    \n",
      "==================================================================================================\n",
      "Total params: 18,485\n",
      "Trainable params: 18,485\n",
      "Non-trainable params: 0\n",
      "__________________________________________________________________________________________________\n",
      "None\n",
      "WARNING:tensorflow:From C:\\Users\\alexc\\Anaconda3\\envs\\MDNtraining_TF\\lib\\site-packages\\tensorflow_core\\python\\ops\\math_grad.py:303: setdiff1d (from tensorflow.python.ops.array_ops) is deprecated and will be removed after 2018-11-30.\n",
      "Instructions for updating:\n",
      "This op will be removed after the deprecation date. Please switch to tf.sets.difference().\n",
      "Train on 9720000 samples, validate on 1080000 samples\n",
      "Epoch 1/1\n"
     ]
    },
    {
     "name": "stderr",
     "output_type": "stream",
     "text": [
      "ERROR:root:Internal Python error in the inspect module.\n",
      "Below is the traceback from this internal error.\n",
      "\n"
     ]
    },
    {
     "name": "stdout",
     "output_type": "stream",
     "text": [
      "Traceback (most recent call last):\n",
      "  File \"C:\\Users\\alexc\\Anaconda3\\envs\\MDNtraining_TF\\lib\\site-packages\\IPython\\core\\interactiveshell.py\", line 3331, in run_code\n",
      "    exec(code_obj, self.user_global_ns, self.user_ns)\n",
      "  File \"<ipython-input-5-31b5cbd32f65>\", line 11, in <module>\n",
      "    options.epochs,\n",
      "  File \"C:\\Users\\alexc\\OneDrive\\Projects\\pixel-mdn-training-master\\train_MDN.py\", line 154, in train_nn\n",
      "    verbose=2\n",
      "  File \"C:\\Users\\alexc\\Anaconda3\\envs\\MDNtraining_TF\\lib\\site-packages\\keras\\engine\\training.py\", line 1239, in fit\n",
      "    validation_freq=validation_freq)\n",
      "  File \"C:\\Users\\alexc\\Anaconda3\\envs\\MDNtraining_TF\\lib\\site-packages\\keras\\engine\\training_arrays.py\", line 196, in fit_loop\n",
      "    outs = fit_function(ins_batch)\n",
      "  File \"C:\\Users\\alexc\\Anaconda3\\envs\\MDNtraining_TF\\lib\\site-packages\\tensorflow_core\\python\\keras\\backend.py\", line 3727, in __call__\n",
      "    outputs = self._graph_fn(*converted_inputs)\n",
      "  File \"C:\\Users\\alexc\\Anaconda3\\envs\\MDNtraining_TF\\lib\\site-packages\\tensorflow_core\\python\\eager\\function.py\", line 1551, in __call__\n",
      "    return self._call_impl(args, kwargs)\n",
      "  File \"C:\\Users\\alexc\\Anaconda3\\envs\\MDNtraining_TF\\lib\\site-packages\\tensorflow_core\\python\\eager\\function.py\", line 1591, in _call_impl\n",
      "    return self._call_flat(args, self.captured_inputs, cancellation_manager)\n",
      "  File \"C:\\Users\\alexc\\Anaconda3\\envs\\MDNtraining_TF\\lib\\site-packages\\tensorflow_core\\python\\eager\\function.py\", line 1692, in _call_flat\n",
      "    ctx, args, cancellation_manager=cancellation_manager))\n",
      "  File \"C:\\Users\\alexc\\Anaconda3\\envs\\MDNtraining_TF\\lib\\site-packages\\tensorflow_core\\python\\eager\\function.py\", line 545, in call\n",
      "    ctx=ctx)\n",
      "  File \"C:\\Users\\alexc\\Anaconda3\\envs\\MDNtraining_TF\\lib\\site-packages\\tensorflow_core\\python\\eager\\execute.py\", line 61, in quick_execute\n",
      "    num_outputs)\n",
      "KeyboardInterrupt\n",
      "\n",
      "During handling of the above exception, another exception occurred:\n",
      "\n",
      "Traceback (most recent call last):\n",
      "  File \"C:\\Users\\alexc\\Anaconda3\\envs\\MDNtraining_TF\\lib\\site-packages\\IPython\\core\\interactiveshell.py\", line 2044, in showtraceback\n",
      "    stb = value._render_traceback_()\n",
      "AttributeError: 'KeyboardInterrupt' object has no attribute '_render_traceback_'\n",
      "\n",
      "During handling of the above exception, another exception occurred:\n",
      "\n",
      "Traceback (most recent call last):\n",
      "  File \"C:\\Users\\alexc\\Anaconda3\\envs\\MDNtraining_TF\\lib\\site-packages\\IPython\\core\\ultratb.py\", line 1148, in get_records\n",
      "    return _fixed_getinnerframes(etb, number_of_lines_of_context, tb_offset)\n",
      "  File \"C:\\Users\\alexc\\Anaconda3\\envs\\MDNtraining_TF\\lib\\site-packages\\IPython\\core\\ultratb.py\", line 316, in wrapped\n",
      "    return f(*args, **kwargs)\n",
      "  File \"C:\\Users\\alexc\\Anaconda3\\envs\\MDNtraining_TF\\lib\\site-packages\\IPython\\core\\ultratb.py\", line 350, in _fixed_getinnerframes\n",
      "    records = fix_frame_records_filenames(inspect.getinnerframes(etb, context))\n",
      "  File \"C:\\Users\\alexc\\Anaconda3\\envs\\MDNtraining_TF\\lib\\inspect.py\", line 1490, in getinnerframes\n",
      "    frameinfo = (tb.tb_frame,) + getframeinfo(tb, context)\n",
      "  File \"C:\\Users\\alexc\\Anaconda3\\envs\\MDNtraining_TF\\lib\\inspect.py\", line 1448, in getframeinfo\n",
      "    filename = getsourcefile(frame) or getfile(frame)\n",
      "  File \"C:\\Users\\alexc\\Anaconda3\\envs\\MDNtraining_TF\\lib\\inspect.py\", line 696, in getsourcefile\n",
      "    if getattr(getmodule(object, filename), '__loader__', None) is not None:\n",
      "  File \"C:\\Users\\alexc\\Anaconda3\\envs\\MDNtraining_TF\\lib\\inspect.py\", line 733, in getmodule\n",
      "    if ismodule(module) and hasattr(module, '__file__'):\n",
      "  File \"C:\\Users\\alexc\\Anaconda3\\envs\\MDNtraining_TF\\lib\\site-packages\\tensorflow\\__init__.py\", line 50, in __getattr__\n",
      "    module = self._load()\n",
      "  File \"C:\\Users\\alexc\\Anaconda3\\envs\\MDNtraining_TF\\lib\\site-packages\\tensorflow\\__init__.py\", line 44, in _load\n",
      "    module = _importlib.import_module(self.__name__)\n",
      "  File \"C:\\Users\\alexc\\Anaconda3\\envs\\MDNtraining_TF\\lib\\importlib\\__init__.py\", line 126, in import_module\n",
      "    return _bootstrap._gcd_import(name[level:], package, level)\n",
      "  File \"<frozen importlib._bootstrap>\", line 994, in _gcd_import\n",
      "  File \"<frozen importlib._bootstrap>\", line 971, in _find_and_load\n",
      "  File \"<frozen importlib._bootstrap>\", line 955, in _find_and_load_unlocked\n",
      "  File \"<frozen importlib._bootstrap>\", line 665, in _load_unlocked\n",
      "  File \"<frozen importlib._bootstrap_external>\", line 678, in exec_module\n",
      "  File \"<frozen importlib._bootstrap>\", line 219, in _call_with_frames_removed\n",
      "  File \"C:\\Users\\alexc\\Anaconda3\\envs\\MDNtraining_TF\\lib\\site-packages\\tensorflow_core\\_api\\v2\\compat\\__init__.py\", line 39, in <module>\n",
      "    from . import v1\n",
      "  File \"C:\\Users\\alexc\\Anaconda3\\envs\\MDNtraining_TF\\lib\\site-packages\\tensorflow_core\\_api\\v2\\compat\\v1\\__init__.py\", line 81, in <module>\n",
      "    from . import xla\n",
      "  File \"<frozen importlib._bootstrap>\", line 971, in _find_and_load\n",
      "  File \"<frozen importlib._bootstrap>\", line 951, in _find_and_load_unlocked\n",
      "  File \"<frozen importlib._bootstrap>\", line 894, in _find_spec\n",
      "  File \"<frozen importlib._bootstrap_external>\", line 1157, in find_spec\n",
      "  File \"<frozen importlib._bootstrap_external>\", line 1129, in _get_spec\n",
      "  File \"<frozen importlib._bootstrap_external>\", line 1241, in find_spec\n",
      "  File \"<frozen importlib._bootstrap_external>\", line 82, in _path_stat\n",
      "KeyboardInterrupt\n"
     ]
    },
    {
     "ename": "KeyboardInterrupt",
     "evalue": "",
     "output_type": "error",
     "traceback": [
      "\u001b[1;31m---------------------------------------------------------------------------\u001b[0m"
     ]
    }
   ],
   "source": [
    "model_1, history_1 = train_nn(\n",
    "                        options.training_input,\n",
    "                        options.training_output,\n",
    "                        options.validation_fraction,\n",
    "                        options.outFile,\n",
    "                        options.network_type,\n",
    "                        options.config,\n",
    "                        options.structure,\n",
    "                        options.learning_rate,\n",
    "                        options.regularizer,\n",
    "                        options.epochs,\n",
    "                        #args.momentum,\n",
    "                        #args.batch,\n",
    "                        ##args.min_epochs,\n",
    "                        #args.max_epochs,\n",
    "                        ##args.patience_increase,\n",
    "                        ##args.threshold,\n",
    "                        #args.min_delta,\n",
    "                        #args.patience,\n",
    "                        #args.profile,\n",
    "                        #args.nbworkers,\n",
    "                        #args.save_all,\n",
    "                        )"
   ]
  },
  {
   "cell_type": "markdown",
   "metadata": {},
   "source": [
    "# Three Particle Training"
   ]
  },
  {
   "cell_type": "code",
   "execution_count": 12,
   "metadata": {},
   "outputs": [],
   "source": [
    "!python genconfig.py --type pos3 > pos3config.json"
   ]
  },
  {
   "cell_type": "code",
   "execution_count": 13,
   "metadata": {
    "scrolled": true
   },
   "outputs": [
    {
     "name": "stdout",
     "output_type": "stream",
     "text": [
      "loading config from:  pos3config.json\n"
     ]
    },
    {
     "data": {
      "text/plain": [
       "{'inputs': ['NN_matrix0',\n",
       "  'NN_matrix1',\n",
       "  'NN_matrix2',\n",
       "  'NN_matrix3',\n",
       "  'NN_matrix4',\n",
       "  'NN_matrix5',\n",
       "  'NN_matrix6',\n",
       "  'NN_matrix7',\n",
       "  'NN_matrix8',\n",
       "  'NN_matrix9',\n",
       "  'NN_matrix10',\n",
       "  'NN_matrix11',\n",
       "  'NN_matrix12',\n",
       "  'NN_matrix13',\n",
       "  'NN_matrix14',\n",
       "  'NN_matrix15',\n",
       "  'NN_matrix16',\n",
       "  'NN_matrix17',\n",
       "  'NN_matrix18',\n",
       "  'NN_matrix19',\n",
       "  'NN_matrix20',\n",
       "  'NN_matrix21',\n",
       "  'NN_matrix22',\n",
       "  'NN_matrix23',\n",
       "  'NN_matrix24',\n",
       "  'NN_matrix25',\n",
       "  'NN_matrix26',\n",
       "  'NN_matrix27',\n",
       "  'NN_matrix28',\n",
       "  'NN_matrix29',\n",
       "  'NN_matrix30',\n",
       "  'NN_matrix31',\n",
       "  'NN_matrix32',\n",
       "  'NN_matrix33',\n",
       "  'NN_matrix34',\n",
       "  'NN_matrix35',\n",
       "  'NN_matrix36',\n",
       "  'NN_matrix37',\n",
       "  'NN_matrix38',\n",
       "  'NN_matrix39',\n",
       "  'NN_matrix40',\n",
       "  'NN_matrix41',\n",
       "  'NN_matrix42',\n",
       "  'NN_matrix43',\n",
       "  'NN_matrix44',\n",
       "  'NN_matrix45',\n",
       "  'NN_matrix46',\n",
       "  'NN_matrix47',\n",
       "  'NN_matrix48',\n",
       "  'NN_pitches0',\n",
       "  'NN_pitches1',\n",
       "  'NN_pitches2',\n",
       "  'NN_pitches3',\n",
       "  'NN_pitches4',\n",
       "  'NN_pitches5',\n",
       "  'NN_pitches6',\n",
       "  'NN_layer',\n",
       "  'NN_barrelEC',\n",
       "  'NN_phi',\n",
       "  'NN_theta'],\n",
       " 'targets': ['NN_position_id_X_0',\n",
       "  'NN_position_id_Y_0',\n",
       "  'NN_position_id_X_1',\n",
       "  'NN_position_id_Y_1',\n",
       "  'NN_position_id_X_2',\n",
       "  'NN_position_id_Y_2'],\n",
       " 'metadata': ['RunNumber',\n",
       "  'EventNumber',\n",
       "  'ClusterNumber',\n",
       "  'NN_sizeX',\n",
       "  'NN_sizeY',\n",
       "  'NN_localEtaPixelIndexWeightedPosition',\n",
       "  'NN_localPhiPixelIndexWeightedPosition',\n",
       "  'NN_layer',\n",
       "  'NN_barrelEC',\n",
       "  'NN_etaModule',\n",
       "  'NN_phi',\n",
       "  'NN_theta',\n",
       "  'globalX',\n",
       "  'globalY',\n",
       "  'globalZ',\n",
       "  'globalEta',\n",
       "  'NN_pitches0',\n",
       "  'NN_pitches1',\n",
       "  'NN_pitches2',\n",
       "  'NN_pitches3',\n",
       "  'NN_pitches4',\n",
       "  'NN_pitches5',\n",
       "  'NN_pitches6']}"
      ]
     },
     "execution_count": 13,
     "metadata": {},
     "output_type": "execute_result"
    }
   ],
   "source": [
    "options = Option(\n",
    "    training_input='NNinput_pos3_training.h5',\n",
    "    training_output='Trained',\n",
    "    validation_fraction=0.1,\n",
    "    outFile='pos3',\n",
    "    network_type='3particle',\n",
    "    config='pos3config.json',\n",
    "    structure=[100, 80, 50],\n",
    "    learning_rate=0.0001,\n",
    "    regularizer=0.0001,\n",
    "    epochs=1,\n",
    ")\n",
    "\n",
    "print('loading config from: ', options.config)\n",
    "config = open(options.config, 'r')\n",
    "yamlConfig = yaml.load(config, Loader=yaml.FullLoader)\n",
    "yamlConfig"
   ]
  },
  {
   "cell_type": "code",
   "execution_count": null,
   "metadata": {},
   "outputs": [
    {
     "name": "stdout",
     "output_type": "stream",
     "text": [
      "(['NN_matrix0', 'NN_matrix1', 'NN_matrix2', 'NN_matrix3', 'NN_matrix4', 'NN_matrix5', 'NN_matrix6', 'NN_matrix7', 'NN_matrix8', 'NN_matrix9', 'NN_matrix10', 'NN_matrix11', 'NN_matrix12', 'NN_matrix13', 'NN_matrix14', 'NN_matrix15', 'NN_matrix16', 'NN_matrix17', 'NN_matrix18', 'NN_matrix19', 'NN_matrix20', 'NN_matrix21', 'NN_matrix22', 'NN_matrix23', 'NN_matrix24', 'NN_matrix25', 'NN_matrix26', 'NN_matrix27', 'NN_matrix28', 'NN_matrix29', 'NN_matrix30', 'NN_matrix31', 'NN_matrix32', 'NN_matrix33', 'NN_matrix34', 'NN_matrix35', 'NN_matrix36', 'NN_matrix37', 'NN_matrix38', 'NN_matrix39', 'NN_matrix40', 'NN_matrix41', 'NN_matrix42', 'NN_matrix43', 'NN_matrix44', 'NN_matrix45', 'NN_matrix46', 'NN_matrix47', 'NN_matrix48', 'NN_pitches0', 'NN_pitches1', 'NN_pitches2', 'NN_pitches3', 'NN_pitches4', 'NN_pitches5', 'NN_pitches6', 'NN_layer', 'NN_barrelEC', 'NN_phi', 'NN_theta'], ['NN_position_id_X_0', 'NN_position_id_Y_0'], [])\n",
      "Model: \"model_2\"\n",
      "__________________________________________________________________________________________________\n",
      "Layer (type)                    Output Shape         Param #     Connected to                     \n",
      "==================================================================================================\n",
      "input_2 (InputLayer)            (None, 60)           0                                            \n",
      "__________________________________________________________________________________________________\n",
      "dense_10 (Dense)                (None, 100)          6100        input_2[0][0]                    \n",
      "__________________________________________________________________________________________________\n",
      "dense_11 (Dense)                (None, 80)           8080        dense_10[0][0]                   \n",
      "__________________________________________________________________________________________________\n",
      "dense_12 (Dense)                (None, 50)           4050        dense_11[0][0]                   \n",
      "__________________________________________________________________________________________________\n",
      "dense_13 (Dense)                (None, 1)            51          dense_12[0][0]                   \n",
      "__________________________________________________________________________________________________\n",
      "dense_14 (Dense)                (None, 2)            102         dense_12[0][0]                   \n",
      "__________________________________________________________________________________________________\n",
      "dense_15 (Dense)                (None, 2)            102         dense_12[0][0]                   \n",
      "__________________________________________________________________________________________________\n",
      "concatenate_3 (Concatenate)     (None, 5)            0           dense_13[0][0]                   \n",
      "                                                                 dense_14[0][0]                   \n",
      "                                                                 dense_15[0][0]                   \n",
      "==================================================================================================\n",
      "Total params: 18,485\n",
      "Trainable params: 18,485\n",
      "Non-trainable params: 0\n",
      "__________________________________________________________________________________________________\n",
      "None\n",
      "Train on 9720000 samples, validate on 1080000 samples\n",
      "Epoch 1/1\n"
     ]
    }
   ],
   "source": [
    "model_3, history_3 = train_nn(\n",
    "                        options.training_input,\n",
    "                        options.training_output,\n",
    "                        options.validation_fraction,\n",
    "                        options.outFile,\n",
    "                        options.network_type,\n",
    "                        options.config,\n",
    "                        options.structure,\n",
    "                        options.learning_rate,\n",
    "                        options.regularizer,\n",
    "                        options.epochs,\n",
    "                        #args.momentum,\n",
    "                        #args.batch,\n",
    "                        ##args.min_epochs,\n",
    "                        #args.max_epochs,\n",
    "                        ##args.patience_increase,\n",
    "                        ##args.threshold,\n",
    "                        #args.min_delta,\n",
    "                        #args.patience,\n",
    "                        #args.profile,\n",
    "                        #args.nbworkers,\n",
    "                        #args.save_all,\n",
    "                        )"
   ]
  },
  {
   "cell_type": "markdown",
   "metadata": {},
   "source": [
    "# Testing Inference"
   ]
  },
  {
   "cell_type": "code",
   "execution_count": 19,
   "metadata": {},
   "outputs": [],
   "source": [
    "model_2p = tf.keras.models.load_model('Trained/pos2_06_04_0556', custom_objects={'abs' : tf.keras.backend.abs,\n",
    "                                                                        'loss' : mixture_density_loss(nb_components=1)})"
   ]
  },
  {
   "cell_type": "code",
   "execution_count": 105,
   "metadata": {},
   "outputs": [],
   "source": [
    "with h5py.File('NNinput_pos2_training.h5', 'r') as hf:  \n",
    "    #x_train = hf['train_data_x'][:]\n",
    "    #y_train = hf['train_data_y'][:]\n",
    "    x_valid = hf['valid_data_x'][:]\n",
    "    y_valid = hf['valid_data_y'][:]"
   ]
  },
  {
   "cell_type": "code",
   "execution_count": 26,
   "metadata": {
    "scrolled": true
   },
   "outputs": [
    {
     "name": "stdout",
     "output_type": "stream",
     "text": [
      "(['NN_matrix0', 'NN_matrix1', 'NN_matrix2', 'NN_matrix3', 'NN_matrix4', 'NN_matrix5', 'NN_matrix6', 'NN_matrix7', 'NN_matrix8', 'NN_matrix9', 'NN_matrix10', 'NN_matrix11', 'NN_matrix12', 'NN_matrix13', 'NN_matrix14', 'NN_matrix15', 'NN_matrix16', 'NN_matrix17', 'NN_matrix18', 'NN_matrix19', 'NN_matrix20', 'NN_matrix21', 'NN_matrix22', 'NN_matrix23', 'NN_matrix24', 'NN_matrix25', 'NN_matrix26', 'NN_matrix27', 'NN_matrix28', 'NN_matrix29', 'NN_matrix30', 'NN_matrix31', 'NN_matrix32', 'NN_matrix33', 'NN_matrix34', 'NN_matrix35', 'NN_matrix36', 'NN_matrix37', 'NN_matrix38', 'NN_matrix39', 'NN_matrix40', 'NN_matrix41', 'NN_matrix42', 'NN_matrix43', 'NN_matrix44', 'NN_matrix45', 'NN_matrix46', 'NN_matrix47', 'NN_matrix48', 'NN_pitches0', 'NN_pitches1', 'NN_pitches2', 'NN_pitches3', 'NN_pitches4', 'NN_pitches5', 'NN_pitches6', 'NN_layer', 'NN_barrelEC', 'NN_phi', 'NN_theta'], ['NN_position_id_X_0', 'NN_position_id_Y_0', 'NN_position_id_X_1', 'NN_position_id_Y_1'], [])\n"
     ]
    }
   ],
   "source": [
    "branches = utils.get_data_config_names('pos2config.json', meta=False)\n",
    "print(branches)"
   ]
  },
  {
   "cell_type": "code",
   "execution_count": 143,
   "metadata": {},
   "outputs": [],
   "source": [
    "y_pred = model_2p.predict(x_valid)"
   ]
  },
  {
   "cell_type": "code",
   "execution_count": 191,
   "metadata": {},
   "outputs": [
    {
     "data": {
      "text/plain": [
       "array([[-0.12202051,  1.0489641 ,  0.9653549 ,  0.02443683],\n",
       "       [-0.24346107,  1.1605814 ,  0.93233484, -0.12094253],\n",
       "       [-0.5886394 ,  0.53088033,  0.0907776 ,  0.31350303],\n",
       "       [-0.6058314 ,  0.53910536,  0.03687229,  0.29302174]],\n",
       "      dtype=float32)"
      ]
     },
     "execution_count": 191,
     "metadata": {},
     "output_type": "execute_result"
    }
   ],
   "source": [
    "pred_mean = np.hstack((y_pred[0][:,1:3], y_pred[1][:,1:3]))\n",
    "pred_mean[:4]"
   ]
  },
  {
   "cell_type": "code",
   "execution_count": 192,
   "metadata": {},
   "outputs": [
    {
     "data": {
      "text/plain": [
       "array([[-0.37259293,  1.12081146,  1.0687952 , -0.15912199],\n",
       "       [-0.37259293,  1.12081146,  1.0687952 , -0.15912199],\n",
       "       [-0.73888397,  0.57801861,  0.32413864,  0.42990673],\n",
       "       [-0.73888397,  0.57801861,  0.32413864,  0.42990673]])"
      ]
     },
     "execution_count": 192,
     "metadata": {},
     "output_type": "execute_result"
    }
   ],
   "source": [
    "y_valid[:4]"
   ]
  },
  {
   "cell_type": "code",
   "execution_count": 193,
   "metadata": {},
   "outputs": [
    {
     "data": {
      "text/plain": [
       "array([[11.914583, 12.839568, 41.65208 , 24.096928],\n",
       "       [11.396862, 11.833599, 38.52732 , 30.049631],\n",
       "       [17.94512 , 79.58819 , 17.217554, 42.076435],\n",
       "       [14.898088, 49.48863 ,  7.179761, 33.70983 ]], dtype=float32)"
      ]
     },
     "execution_count": 193,
     "metadata": {},
     "output_type": "execute_result"
    }
   ],
   "source": [
    "pred_prec = np.hstack((y_pred[0][:,3:5], y_pred[1][:,3:5]))\n",
    "pred_prec[:4]"
   ]
  },
  {
   "cell_type": "code",
   "execution_count": 171,
   "metadata": {},
   "outputs": [
    {
     "data": {
      "text/plain": [
       "1.0"
      ]
     },
     "execution_count": 171,
     "metadata": {},
     "output_type": "execute_result"
    }
   ],
   "source": [
    "min(y_pred[0][:,0])"
   ]
  },
  {
   "cell_type": "code",
   "execution_count": 190,
   "metadata": {},
   "outputs": [
    {
     "data": {
      "text/plain": [
       "[array([[ 1.00000000e+00, -1.22020513e-01,  1.04896414e+00,\n",
       "          1.19145832e+01,  1.28395681e+01],\n",
       "        [ 1.00000000e+00, -2.43461072e-01,  1.16058135e+00,\n",
       "          1.13968620e+01,  1.18335991e+01],\n",
       "        [ 1.00000000e+00, -5.88639379e-01,  5.30880332e-01,\n",
       "          1.79451199e+01,  7.95881882e+01],\n",
       "        ...,\n",
       "        [ 1.00000000e+00, -1.88945562e-01, -5.43127656e-02,\n",
       "          3.12236519e+01,  3.26099777e+01],\n",
       "        [ 1.00000000e+00, -2.38062024e-01,  2.51295269e-02,\n",
       "          3.31577225e+01,  2.12159557e+01],\n",
       "        [ 1.00000000e+00, -1.43220678e-01, -1.11071095e-02,\n",
       "          2.58551216e+01,  1.32325859e+01]], dtype=float32),\n",
       " array([[ 1.0000000e+00,  9.6535492e-01,  2.4436831e-02,  4.1652081e+01,\n",
       "          2.4096928e+01],\n",
       "        [ 1.0000000e+00,  9.3233484e-01, -1.2094253e-01,  3.8527321e+01,\n",
       "          3.0049631e+01],\n",
       "        [ 1.0000000e+00,  9.0777598e-02,  3.1350303e-01,  1.7217554e+01,\n",
       "          4.2076435e+01],\n",
       "        ...,\n",
       "        [ 1.0000000e+00,  4.0691286e-02,  3.6961727e-02,  3.1117075e+01,\n",
       "          3.1111506e+01],\n",
       "        [ 1.0000000e+00,  3.0836277e-02, -1.9076243e-02,  2.5597443e+01,\n",
       "          2.0388727e+01],\n",
       "        [ 1.0000000e+00,  9.6066397e-01, -1.7832756e-02,  2.3812201e+00,\n",
       "          7.6910558e+00]], dtype=float32)]"
      ]
     },
     "execution_count": 190,
     "metadata": {},
     "output_type": "execute_result"
    }
   ],
   "source": [
    "y_pred"
   ]
  },
  {
   "cell_type": "code",
   "execution_count": 107,
   "metadata": {},
   "outputs": [
    {
     "data": {
      "text/plain": [
       "array([-4.71914091e-03, -1.06446621e-02, -3.17881101e-02, -6.27969313e-02,\n",
       "       -3.26945300e-02, -1.06027134e-02, -3.77972431e-03, -8.13597926e-03,\n",
       "       -2.46933255e-02, -8.20004395e-02, -1.71037929e-01, -8.38171346e-02,\n",
       "       -2.48773202e-02, -8.51891186e-03, -2.21717769e-02, -7.55280039e-02,\n",
       "       -2.55086746e-01, -6.27960041e-01,  7.06949630e+00, -7.60307114e-02,\n",
       "       -2.23689450e-02, -3.02013280e-02, -1.16604982e-01, -4.30185044e-01,\n",
       "       -6.80166256e-01,  1.60113854e+00, -1.12994084e-01, -2.94156302e-02,\n",
       "       -2.08045860e-02, -6.91046158e-02,  8.77847437e+00,  1.69288822e+00,\n",
       "        5.22768128e+00, -7.32278622e-02, -2.08516620e-02, -7.68219254e-03,\n",
       "       -2.36535251e-02, -8.18869626e-02, -1.58383701e-01, -8.30791376e-02,\n",
       "       -2.37302468e-02, -7.39592902e-03, -3.84860009e-03, -1.11049622e-02,\n",
       "       -3.33286198e-02, -7.01203773e-02, -2.84885919e-02, -1.00090364e-02,\n",
       "       -3.85054871e-03,  4.81268154e-02,  1.29592255e-01,  1.75643768e-01,\n",
       "        5.02406449e-02,  1.72847185e-01,  1.29881101e-01,  4.78548691e-02,\n",
       "        4.81379211e-01, -1.86669723e-03,  7.37212922e-02, -1.22604259e+00])"
      ]
     },
     "execution_count": 107,
     "metadata": {},
     "output_type": "execute_result"
    }
   ],
   "source": [
    "x_valid[0]"
   ]
  },
  {
   "cell_type": "code",
   "execution_count": 159,
   "metadata": {},
   "outputs": [
    {
     "data": {
      "text/plain": [
       "TensorShape([1, 60])"
      ]
     },
     "execution_count": 159,
     "metadata": {},
     "output_type": "execute_result"
    }
   ],
   "source": [
    "x_test_1 = tf.reshape(x_valid[0], [1,60])\n",
    "x_test_1.shape"
   ]
  },
  {
   "cell_type": "code",
   "execution_count": 160,
   "metadata": {
    "scrolled": true
   },
   "outputs": [
    {
     "data": {
      "text/plain": [
       "[array([[ 1.        , -0.12202062,  1.0489641 , 11.9145775 , 12.839564  ]],\n",
       "       dtype=float32),\n",
       " array([[1.0000000e+00, 9.6535486e-01, 2.4436742e-02, 4.1652073e+01,\n",
       "         2.4096909e+01]], dtype=float32)]"
      ]
     },
     "execution_count": 160,
     "metadata": {},
     "output_type": "execute_result"
    }
   ],
   "source": [
    "y_pred_1 = model_2p.predict(x_test_1)\n",
    "y_pred_1"
   ]
  },
  {
   "cell_type": "code",
   "execution_count": 161,
   "metadata": {},
   "outputs": [
    {
     "data": {
      "text/plain": [
       "array([ 1.        , -0.12202062,  1.0489641 , 11.9145775 , 12.839564  ],\n",
       "      dtype=float32)"
      ]
     },
     "execution_count": 161,
     "metadata": {},
     "output_type": "execute_result"
    }
   ],
   "source": [
    "y_pred_1[0][0]"
   ]
  },
  {
   "cell_type": "code",
   "execution_count": 163,
   "metadata": {},
   "outputs": [
    {
     "data": {
      "text/plain": [
       "array([1.0000000e+00, 9.6535486e-01, 2.4436742e-02, 4.1652073e+01,\n",
       "       2.4096909e+01], dtype=float32)"
      ]
     },
     "execution_count": 163,
     "metadata": {},
     "output_type": "execute_result"
    }
   ],
   "source": [
    "y_pred_1[1][0]"
   ]
  },
  {
   "cell_type": "code",
   "execution_count": 140,
   "metadata": {},
   "outputs": [
    {
     "data": {
      "text/plain": [
       "array([-0.37259293,  1.12081146,  1.0687952 , -0.15912199])"
      ]
     },
     "execution_count": 140,
     "metadata": {},
     "output_type": "execute_result"
    }
   ],
   "source": [
    "y_valid[0]"
   ]
  },
  {
   "cell_type": "code",
   "execution_count": 141,
   "metadata": {},
   "outputs": [
    {
     "data": {
      "text/plain": [
       "array([-0.37259293,  1.12081146,  1.0687952 , -0.15912199])"
      ]
     },
     "execution_count": 141,
     "metadata": {},
     "output_type": "execute_result"
    }
   ],
   "source": [
    "y_valid[1]"
   ]
  },
  {
   "cell_type": "code",
   "execution_count": null,
   "metadata": {},
   "outputs": [],
   "source": []
  }
 ],
 "metadata": {
  "kernelspec": {
   "display_name": "Python 3",
   "language": "python",
   "name": "python3"
  },
  "language_info": {
   "codemirror_mode": {
    "name": "ipython",
    "version": 3
   },
   "file_extension": ".py",
   "mimetype": "text/x-python",
   "name": "python",
   "nbconvert_exporter": "python",
   "pygments_lexer": "ipython3",
   "version": "3.6.10"
  }
 },
 "nbformat": 4,
 "nbformat_minor": 2
}
